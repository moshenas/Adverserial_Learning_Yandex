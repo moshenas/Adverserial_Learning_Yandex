{
 "cells": [
  {
   "cell_type": "code",
   "execution_count": 2,
   "metadata": {},
   "outputs": [],
   "source": [
    "import os\n",
    "\n",
    "import numpy as np\n",
    "import matplotlib.pyplot as plt\n",
    "import tensorflow as tf\n",
    "from tensorflow import keras\n",
    "from tensorflow.keras import layers\n",
    "import math\n",
    "\n",
    "# Enable inline plotting\n",
    "%matplotlib inline\n",
    "\n",
    "import warnings\n",
    "warnings.filterwarnings(\"ignore\", category=DeprecationWarning)\n",
    "warnings.filterwarnings(\"ignore\", category=FutureWarning)"
   ]
  },
  {
   "cell_type": "markdown",
   "metadata": {},
   "source": [
    "## Training $C_0$"
   ]
  },
  {
   "cell_type": "code",
   "execution_count": 3,
   "metadata": {},
   "outputs": [],
   "source": [
    "''' Build a simple MNIST classification CNN\n",
    "    The network takes ~3 minutes to train on a normal laptop and reaches roughly 97% of accuracy\n",
    "    Model structure: Conv, Conv, Max pooling, Dropout, Dense, Dense\n",
    "'''\n",
    "def build_mnist_model():\n",
    "    \n",
    "    activation = 'relu'\n",
    "    # input image dimensions\n",
    "    img_rows, img_cols, img_colors = 28, 28, 1\n",
    "    \n",
    "    model = keras.Sequential()\n",
    "    model.add(layers.Conv2D(8, kernel_size=(3, 3), input_shape=(img_rows, img_cols, img_colors), activation=activation))\n",
    "    model.add(layers.Conv2D(8, (3, 3), activation=activation))\n",
    "    model.add(layers.MaxPooling2D(pool_size=(2, 2)))\n",
    "    model.add(layers.Dropout(0.25))\n",
    "    model.add(layers.Flatten())\n",
    "    model.add(layers.Dense(128, activation=activation))\n",
    "    model.add(layers.Dropout(0.5))\n",
    "    model.add(layers.Dense(num_classes))\n",
    "    model.add(layers.Activation('softmax', name='y_pred'))\n",
    "              \n",
    "    return model"
   ]
  },
  {
   "cell_type": "code",
   "execution_count": 4,
   "metadata": {},
   "outputs": [],
   "source": [
    "''' Normalize input to the range of [0..1]\n",
    "    Apart from assisting in the convergance of the training process, this \n",
    "    will also make our lives easier during the adversarial attack process\n",
    "'''\n",
    "def normalize(x_train,x_test):\n",
    "    x_train -= x_train.min()\n",
    "    x_train /= x_train.max()\n",
    "    x_test -= x_test.min()\n",
    "    x_test /= x_test.max()\n",
    "    \n",
    "    return x_train, x_test"
   ]
  },
  {
   "cell_type": "code",
   "execution_count": 5,
   "metadata": {},
   "outputs": [
    {
     "name": "stdout",
     "output_type": "stream",
     "text": [
      "Downloading data from https://storage.googleapis.com/tensorflow/tf-keras-datasets/mnist.npz\n",
      "11493376/11490434 [==============================] - 3s 0us/step\n"
     ]
    }
   ],
   "source": [
    "# Load and prepare the datasets for training\n",
    "num_classes = 10\n",
    "\n",
    "img_rows, img_cols, img_colors = 28, 28, 1\n",
    "(train_images, train_labels), (test_images, test_labels) = keras.datasets.mnist.load_data()\n",
    "train_images = train_images.astype('float32')\n",
    "test_images = test_images.astype('float32')\n",
    "train_images = train_images.reshape(train_images.shape[0], img_rows, img_cols, 1)\n",
    "test_images = test_images.reshape(test_images.shape[0], img_rows, img_cols, 1)\n",
    "train_images, test_images = normalize(train_images, test_images)\n",
    "    \n",
    "train_labels = keras.utils.to_categorical(train_labels, num_classes)\n",
    "test_labels = keras.utils.to_categorical(test_labels, num_classes)"
   ]
  },
  {
   "cell_type": "code",
   "execution_count": 13,
   "metadata": {
    "scrolled": true
   },
   "outputs": [
    {
     "name": "stdout",
     "output_type": "stream",
     "text": [
      "Epoch 1/12\n",
      "469/469 [==============================] - 17s 35ms/step - loss: 0.9878 - categorical_accuracy: 0.6795 - val_loss: 0.3016 - val_categorical_accuracy: 0.9149\n",
      "Epoch 2/12\n",
      "469/469 [==============================] - 16s 35ms/step - loss: 0.4393 - categorical_accuracy: 0.8662 - val_loss: 0.2213 - val_categorical_accuracy: 0.9358\n",
      "Epoch 3/12\n",
      "469/469 [==============================] - 16s 35ms/step - loss: 0.3503 - categorical_accuracy: 0.8943 - val_loss: 0.1784 - val_categorical_accuracy: 0.9486\n",
      "Epoch 4/12\n",
      "469/469 [==============================] - 17s 35ms/step - loss: 0.2989 - categorical_accuracy: 0.9101 - val_loss: 0.1502 - val_categorical_accuracy: 0.9558\n",
      "Epoch 5/12\n",
      "469/469 [==============================] - 17s 36ms/step - loss: 0.2599 - categorical_accuracy: 0.9217 - val_loss: 0.1312 - val_categorical_accuracy: 0.9618\n",
      "Epoch 6/12\n",
      "469/469 [==============================] - 17s 36ms/step - loss: 0.2326 - categorical_accuracy: 0.9298 - val_loss: 0.1179 - val_categorical_accuracy: 0.9644\n",
      "Epoch 7/12\n",
      "469/469 [==============================] - 17s 36ms/step - loss: 0.2165 - categorical_accuracy: 0.9353 - val_loss: 0.1077 - val_categorical_accuracy: 0.9677\n",
      "Epoch 8/12\n",
      "469/469 [==============================] - 17s 36ms/step - loss: 0.2011 - categorical_accuracy: 0.9397 - val_loss: 0.1004 - val_categorical_accuracy: 0.9698\n",
      "Epoch 9/12\n",
      "469/469 [==============================] - 17s 37ms/step - loss: 0.1921 - categorical_accuracy: 0.9428 - val_loss: 0.0935 - val_categorical_accuracy: 0.9714\n",
      "Epoch 10/12\n",
      "469/469 [==============================] - 17s 36ms/step - loss: 0.1801 - categorical_accuracy: 0.9466 - val_loss: 0.0884 - val_categorical_accuracy: 0.9727\n",
      "Epoch 11/12\n",
      "469/469 [==============================] - 17s 36ms/step - loss: 0.1731 - categorical_accuracy: 0.9479 - val_loss: 0.0851 - val_categorical_accuracy: 0.9736\n",
      "Epoch 12/12\n",
      "469/469 [==============================] - 17s 36ms/step - loss: 0.1663 - categorical_accuracy: 0.9503 - val_loss: 0.0799 - val_categorical_accuracy: 0.9752\n"
     ]
    }
   ],
   "source": [
    "# Train the model\n",
    "batch_size = 128\n",
    "maxepoches = 12\n",
    "learning_rate = 0.1\n",
    "lr_decay = 1e-6\n",
    "lr_drop = 20\n",
    "\n",
    "def lr_scheduler(epoch):\n",
    "    return learning_rate * (0.5 ** (epoch // lr_drop))\n",
    "reduce_lr = keras.callbacks.LearningRateScheduler(lr_scheduler)\n",
    "\n",
    "model = build_mnist_model()\n",
    "\n",
    "model.compile(loss='categorical_crossentropy',\n",
    "              optimizer=keras.optimizers.Adadelta(),\n",
    "              metrics=[keras.metrics.CategoricalAccuracy()])\n",
    "\n",
    "history = model.fit(train_images, train_labels,\n",
    "                    batch_size=batch_size,\n",
    "                    epochs=maxepoches,\n",
    "                    verbose=1,\n",
    "                    validation_data=(test_images, test_labels),\n",
    "                    callbacks=[reduce_lr])\n"
   ]
  },
  {
   "cell_type": "markdown",
   "metadata": {},
   "source": [
    "## Attacking $C_0$"
   ]
  },
  {
   "cell_type": "code",
   "execution_count": 7,
   "metadata": {},
   "outputs": [],
   "source": [
    "''' A simple utility funcion for evaluating the success of an attack\n",
    "'''\n",
    "def TestAttack(model, adv_images, orig_images, true_labels, target_labels=None, targeted=False):\n",
    "    score = model.evaluate(adv_images, true_labels, verbose=0)\n",
    "    print('Test loss: {:.2f}'.format(score[0]))\n",
    "    print('Successfully moved out of source class: {:.2f}'.format( 1 - score[1]))\n",
    "    \n",
    "    if targeted:\n",
    "        score = model.evaluate(adv_images, target, verbose=0)\n",
    "        print('Test loss: {:.2f}'.format(score[0]))\n",
    "        print('Successfully perturbed to target class: {:.2f}'.format(score[1]))\n",
    "    \n",
    "    dist = np.mean(np.sqrt(np.mean(np.square(adv_images - orig_images), axis=(1,2,3))))\n",
    "    print('Mean perturbation distance: {:.2f}'.format(dist))\n",
    "    \n",
    "    index = 10\n",
    "    img = adv_images[index].reshape(28, 28)\n",
    "    plt.imshow(img, cmap='gray')\n",
    "    plt.show()"
   ]
  },
  {
   "cell_type": "code",
   "execution_count": 8,
   "metadata": {},
   "outputs": [],
   "source": [
    "''' Fast Gradient Sign Method implementation - perturb all input features by an epsilon sized step in \n",
    "    the direction of loss gradient\n",
    "'''\n",
    "def FastGradientSignMethod(model, images, labels, epsilon=0.3):\n",
    "\n",
    "    # The GradientTape is the context at which we can explicitly ask for gradient calculation\n",
    "    # We define the relevant tensors inside that context, and ask for the gradient calculation outside of it\n",
    "    with tf.GradientTape() as grad:\n",
    "      true_label_tensor = tf.Variable(labels, dtype=tf.float32)\n",
    "      input_tensor = tf.Variable(images, dtype=tf.float32)\n",
    "      predicted = model(input_tensor)\n",
    "      adv_loss = keras.losses.categorical_crossentropy(true_label_tensor, predicted)\n",
    "    adv_grads = grad.gradient(adv_loss, input_tensor)\n",
    "\n",
    "    # Finally, the FGSM formula is rather straight forward x`= x + epsilon * sign(loss(x,y))\n",
    "    delta = tf.multiply(epsilon, tf.cast(tf.sign(adv_grads), dtype=tf.float32))\n",
    "    adv_out = input_tensor + delta\n",
    "    return adv_out.numpy()"
   ]
  },
  {
   "cell_type": "code",
   "execution_count": 14,
   "metadata": {},
   "outputs": [
    {
     "name": "stdout",
     "output_type": "stream",
     "text": [
      "Test loss: 5.35\n",
      "Successfully moved out of source class: 0.99\n",
      "Mean perturbation distance: 0.29\n"
     ]
    },
    {
     "data": {
      "image/png": "[encoded data removed]",
      "text/plain": [
       "<Figure size 432x288 with 1 Axes>"
      ]
     },
     "metadata": {
      "needs_background": "light"
     },
     "output_type": "display_data"
    }
   ],
   "source": [
    "# Compute perturbations using FGSM\n",
    "N_attack = 1000\n",
    "indices_0 = np.random.choice(len(test_images), N_attack, replace=False)\n",
    "adv_images_0 = FastGradientSignMethod(model, test_images[indices_0], test_labels[indices_0], epsilon=0.3)\n",
    "TestAttack(model, adv_images_0, test_images[indices_0], test_labels[indices_0], targeted=False)"
   ]
  },
  {
   "cell_type": "markdown",
   "metadata": {},
   "source": [
    "## ReTraining"
   ]
  },
  {
   "cell_type": "code",
   "execution_count": 15,
   "metadata": {},
   "outputs": [],
   "source": [
    "num_returns= 5\n",
    "\n",
    "train_and_adv_img = tf.concat([train_images, adv_images_0], 0)\n",
    "train_and_adv_labels = tf.concat([train_labels, test_labels[indices_0]], 0)"
   ]
  },
  {
   "cell_type": "code",
   "execution_count": 16,
   "metadata": {},
   "outputs": [
    {
     "name": "stdout",
     "output_type": "stream",
     "text": [
      "score on clean train data is 0.975683331489563:.2f\n",
      "for X0\n",
      "Test loss: 3.69\n",
      "Successfully moved out of source class: 0.97\n",
      "Mean perturbation distance: 0.29\n"
     ]
    },
    {
     "data": {
      "image/png": "[encoded data removed]",
      "text/plain": [
       "<Figure size 432x288 with 1 Axes>"
      ]
     },
     "metadata": {
      "needs_background": "light"
     },
     "output_type": "display_data"
    },
    {
     "name": "stdout",
     "output_type": "stream",
     "text": [
      "for X0\n",
      "Test loss: 3.27\n",
      "Successfully moved out of source class: 0.93\n",
      "Mean perturbation distance: 0.29\n"
     ]
    },
    {
     "data": {
      "image/png": "[encoded data removed]",
      "text/plain": [
       "<Figure size 432x288 with 1 Axes>"
      ]
     },
     "metadata": {
      "needs_background": "light"
     },
     "output_type": "display_data"
    },
    {
     "name": "stdout",
     "output_type": "stream",
     "text": [
      "score on clean train data is 0.9765333533287048:.2f\n",
      "for X0\n",
      "Test loss: 3.39\n",
      "Successfully moved out of source class: 0.93\n",
      "Mean perturbation distance: 0.29\n"
     ]
    },
    {
     "data": {
      "image/png": "[encoded data removed]",
      "text/plain": [
       "<Figure size 432x288 with 1 Axes>"
      ]
     },
     "metadata": {
      "needs_background": "light"
     },
     "output_type": "display_data"
    },
    {
     "name": "stdout",
     "output_type": "stream",
     "text": [
      "for X1\n",
      "Test loss: 3.19\n",
      "Successfully moved out of source class: 0.90\n",
      "Mean perturbation distance: 0.24\n"
     ]
    },
    {
     "data": {
      "image/png": "[encoded data removed]",
      "text/plain": [
       "<Figure size 432x288 with 1 Axes>"
      ]
     },
     "metadata": {
      "needs_background": "light"
     },
     "output_type": "display_data"
    },
    {
     "name": "stdout",
     "output_type": "stream",
     "text": [
      "score on clean train data is 0.9773833155632019:.2f\n",
      "for X0\n",
      "Test loss: 3.19\n",
      "Successfully moved out of source class: 0.93\n",
      "Mean perturbation distance: 0.29\n"
     ]
    },
    {
     "data": {
      "image/png": "[encoded data removed]",
      "text/plain": [
       "<Figure size 432x288 with 1 Axes>"
      ]
     },
     "metadata": {
      "needs_background": "light"
     },
     "output_type": "display_data"
    },
    {
     "name": "stdout",
     "output_type": "stream",
     "text": [
      "for X2\n",
      "Test loss: 2.86\n",
      "Successfully moved out of source class: 0.88\n",
      "Mean perturbation distance: 0.29\n"
     ]
    },
    {
     "data": {
      "image/png": "[encoded data removed]",
      "text/plain": [
       "<Figure size 432x288 with 1 Axes>"
      ]
     },
     "metadata": {
      "needs_background": "light"
     },
     "output_type": "display_data"
    },
    {
     "name": "stdout",
     "output_type": "stream",
     "text": [
      "score on clean train data is 0.9780666828155518:.2f\n",
      "for X0\n",
      "Test loss: 2.99\n",
      "Successfully moved out of source class: 0.89\n",
      "Mean perturbation distance: 0.29\n"
     ]
    },
    {
     "data": {
      "image/png": "[encoded data removed]",
      "text/plain": [
       "<Figure size 432x288 with 1 Axes>"
      ]
     },
     "metadata": {
      "needs_background": "light"
     },
     "output_type": "display_data"
    },
    {
     "name": "stdout",
     "output_type": "stream",
     "text": [
      "for X3\n",
      "Test loss: 2.60\n",
      "Successfully moved out of source class: 0.82\n",
      "Mean perturbation distance: 0.29\n"
     ]
    },
    {
     "data": {
      "image/png": "[encoded data removed]",
      "text/plain": [
       "<Figure size 432x288 with 1 Axes>"
      ]
     },
     "metadata": {
      "needs_background": "light"
     },
     "output_type": "display_data"
    },
    {
     "name": "stdout",
     "output_type": "stream",
     "text": [
      "score on clean train data is 0.9787499904632568:.2f\n",
      "for X0\n",
      "Test loss: 2.86\n",
      "Successfully moved out of source class: 0.85\n",
      "Mean perturbation distance: 0.29\n"
     ]
    },
    {
     "data": {
      "image/png": "[encoded data removed]",
      "text/plain": [
       "<Figure size 432x288 with 1 Axes>"
      ]
     },
     "metadata": {
      "needs_background": "light"
     },
     "output_type": "display_data"
    },
    {
     "name": "stdout",
     "output_type": "stream",
     "text": [
      "for X4\n",
      "Test loss: 2.61\n",
      "Successfully moved out of source class: 0.81\n",
      "Mean perturbation distance: 0.29\n"
     ]
    },
    {
     "data": {
      "image/png": "[encoded data removed]",
      "text/plain": [
       "<Figure size 432x288 with 1 Axes>"
      ]
     },
     "metadata": {
      "needs_background": "light"
     },
     "output_type": "display_data"
    }
   ],
   "source": [
    "for i in range(num_returns):\n",
    "    model.fit(train_and_adv_img, train_and_adv_labels,\n",
    "                    batch_size=batch_size,\n",
    "                    epochs=1,\n",
    "                    verbose=0,\n",
    "                    validation_data=(test_images, test_labels),\n",
    "                    callbacks=[reduce_lr])\n",
    "    print(f'score on clean train data is {model.evaluate(train_images, train_labels, verbose=0)[1]}:.2f')\n",
    "    indices = np.random.choice(len(test_images), N_attack, replace=False)\n",
    "    adv_images = FastGradientSignMethod(model, test_images[indices], test_labels[indices], epsilon=0.3)\n",
    "    print('for X0')\n",
    "    TestAttack(model, adv_images_0, test_images[indices_0], test_labels[indices_0], targeted=False)\n",
    "    print(f'for X{i}')\n",
    "    TestAttack(model, adv_images, test_images[indices], test_labels[indices], targeted=False)\n",
    "    train_and_adv_img = tf.concat([train_images, adv_images], 0)\n",
    "    train_and_adv_labels = tf.concat([train_labels, test_labels[indices]], 0)\n",
    "    "
   ]
  },
  {
   "cell_type": "code",
   "execution_count": null,
   "metadata": {},
   "outputs": [],
   "source": []
  }
 ],
 "metadata": {
  "kernelspec": {
   "display_name": "Python 3",
   "language": "python",
   "name": "python3"
  },
  "language_info": {
   "codemirror_mode": {
    "name": "ipython",
    "version": 3
   },
   "file_extension": ".py",
   "mimetype": "text/x-python",
   "name": "python",
   "nbconvert_exporter": "python",
   "pygments_lexer": "ipython3",
   "version": "3.7.4"
  }
 },
 "nbformat": 4,
 "nbformat_minor": 4
}
