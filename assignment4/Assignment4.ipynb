{
 "cells": [
  {
   "cell_type": "markdown",
   "metadata": {},
   "source": [
    "# Assignment 4 - Defensive Distillation"
   ]
  },
  {
   "cell_type": "code",
   "execution_count": 2,
   "metadata": {},
   "outputs": [],
   "source": [
    "import os\n",
    "\n",
    "import numpy as np\n",
    "import matplotlib.pyplot as plt\n",
    "import tensorflow as tf\n",
    "from tensorflow import keras\n",
    "from tensorflow.keras import layers\n",
    "import math\n",
    "\n",
    "# Enable inline plotting\n",
    "%matplotlib inline\n",
    "\n",
    "import warnings\n",
    "warnings.filterwarnings(\"ignore\", category=DeprecationWarning)\n",
    "warnings.filterwarnings(\"ignore\", category=FutureWarning)"
   ]
  },
  {
   "cell_type": "markdown",
   "metadata": {},
   "source": [
    "## Training"
   ]
  },
  {
   "cell_type": "code",
   "execution_count": 3,
   "metadata": {},
   "outputs": [],
   "source": [
    "def build_mnist_model(num_classes):\n",
    "    \n",
    "    activation = 'relu'\n",
    "    # input image dimensions\n",
    "    img_rows, img_cols, img_colors = 28, 28, 1\n",
    "    \n",
    "    model = keras.Sequential()\n",
    "    model.add(layers.Conv2D(8, kernel_size=(3, 3), input_shape=(img_rows, img_cols, img_colors), activation=activation))\n",
    "    model.add(layers.Conv2D(8, (3, 3), activation=activation))\n",
    "    model.add(layers.MaxPooling2D(pool_size=(2, 2)))\n",
    "    model.add(layers.Dropout(0.25))\n",
    "    model.add(layers.Flatten())\n",
    "    model.add(layers.Dense(128, activation=activation))\n",
    "    model.add(layers.Dropout(0.5))\n",
    "    model.add(layers.Dense(num_classes))\n",
    "              \n",
    "    return model"
   ]
  },
  {
   "cell_type": "code",
   "execution_count": 4,
   "metadata": {},
   "outputs": [],
   "source": [
    "def train_model(num_classes, train_images, train_labels, test_images, test_labels, train_temp=1):\n",
    "    \n",
    "    batch_size = 128\n",
    "    maxepoches = 12\n",
    "    learning_rate = 0.1\n",
    "    lr_decay = 1e-6\n",
    "    lr_drop = 20\n",
    "\n",
    "    def lr_scheduler(epoch):\n",
    "        return learning_rate * (0.5 ** (epoch // lr_drop))\n",
    "    reduce_lr = keras.callbacks.LearningRateScheduler(lr_scheduler)\n",
    "\n",
    "    def CE_with_temperture(y_true, y_pred):\n",
    "        loss = keras.losses.CategoricalCrossentropy(from_logits=True)\n",
    "        return loss(y_true, y_pred / train_temp)\n",
    "    \n",
    "    model = build_mnist_model(num_classes)\n",
    "\n",
    "    model.compile(loss=CE_with_temperture,\n",
    "                  optimizer=keras.optimizers.Adadelta(),\n",
    "                  metrics=[keras.metrics.CategoricalAccuracy()])\n",
    "\n",
    "    history = model.fit(train_images, train_labels,\n",
    "                        batch_size=batch_size,\n",
    "                        epochs=maxepoches,\n",
    "                        verbose=1,\n",
    "                        validation_data=(test_images, test_labels),\n",
    "                        callbacks=[reduce_lr])\n",
    "    \n",
    "    return model\n"
   ]
  },
  {
   "cell_type": "markdown",
   "metadata": {},
   "source": [
    "## Attacking"
   ]
  },
  {
   "cell_type": "code",
   "execution_count": 38,
   "metadata": {},
   "outputs": [],
   "source": [
    "''' A simple utility funcion for evaluating the success of an attack\n",
    "'''\n",
    "def TestAttack(model, adv_images, orig_images, true_labels, target_labels=None, targeted=False):\n",
    "    score = model.evaluate(adv_images, true_labels, verbose=0)\n",
    "    print('Test loss: {:.2f}'.format(score[0]))\n",
    "    print('Successfully moved out of source class: {:.2f}'.format( 1 - score[1]))\n",
    "    \n",
    "    if targeted:\n",
    "        print('targeted_mode')\n",
    "        score = model.evaluate(adv_images, target_labels, verbose=0)\n",
    "        print('Test loss: {:.2f}'.format(score[0]))\n",
    "        print('Successfully perturbed to target class: {:.2f}'.format(score[1]))\n",
    "    \n",
    "    dist = np.mean(np.sqrt(np.mean(np.square(adv_images - orig_images), axis=(1,2,3))))\n",
    "    print('Mean perturbation distance: {:.2f}'.format(dist))\n",
    "    \n",
    "    index = 10\n",
    "    img = adv_images[index].reshape(28, 28)\n",
    "    plt.imshow(img, cmap='gray')\n",
    "    plt.show()"
   ]
  },
  {
   "cell_type": "markdown",
   "metadata": {},
   "source": [
    "### FGSM"
   ]
  },
  {
   "cell_type": "code",
   "execution_count": 32,
   "metadata": {},
   "outputs": [],
   "source": [
    "''' Fast Gradient Sign Method implementation - perturb all input features by an epsilon sized step in \n",
    "    the direction of loss gradient\n",
    "'''\n",
    "def FastGradientSignMethod(model, images, labels, epsilon=0.3, verbose=False):\n",
    "\n",
    "    # The GradientTape is the context at which we can explicitly ask for gradient calculation\n",
    "    # We define the relevant tensors inside that context, and ask for the gradient calculation outside of it\n",
    "    with tf.GradientTape() as grad:\n",
    "        true_label_tensor = tf.Variable(labels, dtype=tf.float32)\n",
    "        input_tensor = tf.Variable(images, dtype=tf.float32)\n",
    "        predicted = model(input_tensor)\n",
    "        adv_loss = keras.losses.categorical_crossentropy(true_label_tensor, predicted, from_logits=True)\n",
    "    adv_grads = grad.gradient(adv_loss, input_tensor)\n",
    "\n",
    "    # Finally, the FGSM formula is rather straight forward x`= x + epsilon * sign(loss(x,y))\n",
    "    delta = tf.multiply(epsilon, tf.cast(tf.sign(adv_grads), dtype=tf.float32))\n",
    "    adv_out = input_tensor + delta\n",
    "    \n",
    "    if verbose:\n",
    "        print('Gradient map')\n",
    "        image = delta.numpy()[10] / epsilon\n",
    "        plt.imshow(image.reshape((28,28)), cmap='RdYlGn')\n",
    "        plt.colorbar()\n",
    "        plt.show()\n",
    "        \n",
    "    return adv_out.numpy()"
   ]
  },
  {
   "cell_type": "markdown",
   "metadata": {},
   "source": [
    "### TGSM"
   ]
  },
  {
   "cell_type": "code",
   "execution_count": 33,
   "metadata": {},
   "outputs": [],
   "source": [
    "''' Targeted Gradient Sign Method implementation - A targeted variant of the FGSM attack\n",
    "    here we minimize the loss with respect to the target class, as opposed to maximizing the loss with respect\n",
    "    to the source class\n",
    "'''\n",
    "def TargetedGradientSignMethod(model, images, target, epsilon=0.3):\n",
    "    # The GradientTape is the context at which we can explicitly ask for gradient calculation\n",
    "    # We define the relevant tensors inside that context, and ask for the gradient calculation outside of it\n",
    "    with tf.GradientTape() as grad:\n",
    "        target_label_tensor = tf.Variable(target, dtype=tf.float32)\n",
    "        input_tensor = tf.Variable(images, dtype=tf.float32)\n",
    "        predicted = model(input_tensor)\n",
    "        adv_loss = keras.losses.categorical_crossentropy(target_label_tensor, predicted, from_logits=True)\n",
    "    adv_grads = grad.gradient(adv_loss, input_tensor)\n",
    "\n",
    "    # Finally, the FGSM formula is rather straight forward x`= x + epsilon * sign(loss(x,y))\n",
    "    delta = tf.multiply(epsilon, tf.cast(tf.sign(adv_grads), dtype=tf.float32))\n",
    "    adv_out = input_tensor - delta\n",
    "    return adv_out.numpy()"
   ]
  },
  {
   "cell_type": "markdown",
   "metadata": {},
   "source": [
    "### BIM"
   ]
  },
  {
   "cell_type": "code",
   "execution_count": 37,
   "metadata": {},
   "outputs": [],
   "source": [
    "def BasicIterativeMethod(model, images, labels, epsilon=0.1, iter_eps = 0.05, iterations=10, min_x=0.0, max_x=1.0, targeted=False):\n",
    "     \n",
    "    adv_out = images\n",
    "    \n",
    "    for iteration in range(iterations):\n",
    "        print('Iteration:', iteration, end='\\r')\n",
    "        # Perturb the input\n",
    "        if targeted:\n",
    "            adv_out = TargetedGradientSignMethod(model, adv_out, labels, epsilon=iter_eps)\n",
    "        else:\n",
    "            adv_out = FastGradientSignMethod(model, adv_out, labels, epsilon=iter_eps)\n",
    "            \n",
    "        # Clip the intermdiate adversarial examples in order to ensure they are within\n",
    "        # the valid data range\n",
    "        delta = adv_out - images\n",
    "        delta = np.clip(delta, -epsilon, epsilon)\n",
    "        adv_out = images + delta\n",
    "        adv_out = np.clip(adv_out, 0.0, 1.0)\n",
    "    return adv_out"
   ]
  },
  {
   "cell_type": "markdown",
   "metadata": {},
   "source": [
    "### PGD"
   ]
  },
  {
   "cell_type": "code",
   "execution_count": 9,
   "metadata": {},
   "outputs": [],
   "source": [
    "def PGD_L2(model, images, labels, epsilon=0.1, iter_eps = 0.05, iterations=10, min_x=0.0, max_x=1.0, targeted=False):\n",
    "    \n",
    "    adv_out = images\n",
    "    \n",
    "    for iteration in range(iterations):\n",
    "        print('Iteration:', iteration, end='\\r')\n",
    "        # Perturb the input\n",
    "        if targeted:\n",
    "            adv_out = TargetedGradientSignMethod(model, adv_out, labels, epsilon=iter_eps)\n",
    "        else:\n",
    "            adv_out = FastGradientSignMethod(model, adv_out, labels, epsilon=iter_eps)\n",
    "            \n",
    "        # Project the perturbation to the epsilon ball (L2 projection)\n",
    "        perturbation = adv_out - images\n",
    "        norm = np.sum(np.square(perturbation), axis=(1,2,3), keepdims=True)\n",
    "        norm = np.sqrt(np.maximum(10e-12, norm))\n",
    "        factor = np.minimum(1, np.divide(epsilon, norm))\n",
    "        adv_out = np.clip(images + perturbation * factor, min_x, max_x)\n",
    "    \n",
    "    return adv_out"
   ]
  },
  {
   "cell_type": "markdown",
   "metadata": {},
   "source": [
    "### All attacks in one"
   ]
  },
  {
   "cell_type": "code",
   "execution_count": 43,
   "metadata": {},
   "outputs": [],
   "source": [
    "def attack_model(model, test_images, test_labels, num_classes):\n",
    "    # Choosing target\n",
    "    target = (np.argmax(test_labels, axis=1) + np.random.randint(1, num_classes, size=(test_labels.shape[0]))) % num_classes\n",
    "    target = keras.utils.to_categorical(target, num_classes)\n",
    "    \n",
    "    print('FGSM:')\n",
    "    adv_images = BasicIterativeMethod(model, test_images, test_labels, iterations = 30, epsilon=0.3, iter_eps=0.01)\n",
    "    TestAttack(model, adv_images, test_images, test_labels)\n",
    "    \n",
    "    print('TGSM:')\n",
    "    adv_images = BasicIterativeMethod(model, test_images, target, iterations = 30, epsilon=0.3, iter_eps=0.01, targeted=True)\n",
    "    TestAttack(model, adv_images, test_images, test_labels, target, targeted=True)\n",
    "    \n",
    "    print('non targeted PGD:')\n",
    "    adv_images = PGD_L2(model, test_images, test_labels, iterations = 60, epsilon=3, iter_eps=0.03)\n",
    "    TestAttack(model, adv_images, test_images, test_labels)\n",
    "    \n",
    "    print('targeted PGD')\n",
    "    adv_images = PGD_L2(model, test_images, target, iterations = 60, epsilon=3, iter_eps=0.03, targeted=True)\n",
    "    TestAttack(model, adv_images, test_images, test_labels, target, targeted=True)"
   ]
  },
  {
   "cell_type": "markdown",
   "metadata": {},
   "source": [
    "## Defensive distillation implementation"
   ]
  },
  {
   "cell_type": "code",
   "execution_count": 47,
   "metadata": {},
   "outputs": [],
   "source": [
    "def defensive_distilation(num_classes, train_data, train_labels, test_data, test_labels, temp):\n",
    "    \"\"\"\n",
    "    This function implements defensive distilation method\n",
    "    \n",
    "    Returns:\n",
    "        the trained teacher and student models\n",
    "    \"\"\"\n",
    "    \n",
    "    teacher_model = train_model(num_classes, train_data, train_labels, test_data, test_labels, temp)\n",
    "    \n",
    "    train_teacher_probabilities  = keras.activations.softmax(teacher_model(train_data) / temp, axis=-1)\n",
    "    test_teacher_probabilities = keras.activations.softmax(teacher_model(test_data) / temp, axis=-1)\n",
    "    \n",
    "    student_model = train_model(num_classes, train_data, train_teacher_probabilities, test_data, test_teacher_probabilities, temp)\n",
    "    \n",
    "    return teacher_model, student_model\n",
    "    "
   ]
  },
  {
   "cell_type": "markdown",
   "metadata": {},
   "source": [
    "## Data preparing"
   ]
  },
  {
   "cell_type": "code",
   "execution_count": 12,
   "metadata": {},
   "outputs": [],
   "source": [
    "def normalize(x_train,x_test):\n",
    "    x_train -= x_train.min()\n",
    "    x_train /= x_train.max()\n",
    "    x_test -= x_test.min()\n",
    "    x_test /= x_test.max()\n",
    "    \n",
    "    return x_train, x_test"
   ]
  },
  {
   "cell_type": "code",
   "execution_count": 13,
   "metadata": {},
   "outputs": [],
   "source": [
    "num_classes = 10\n",
    "\n",
    "img_rows, img_cols, img_colors = 28, 28, 1\n",
    "(train_images, train_labels), (test_images, test_labels) = keras.datasets.mnist.load_data()\n",
    "train_images = train_images.astype('float32')\n",
    "test_images = test_images.astype('float32')\n",
    "train_images = train_images.reshape(train_images.shape[0], img_rows, img_cols, 1)\n",
    "test_images = test_images.reshape(test_images.shape[0], img_rows, img_cols, 1)\n",
    "train_images, test_images = normalize(train_images, test_images)\n",
    "    \n",
    "train_labels = keras.utils.to_categorical(train_labels, num_classes)\n",
    "test_labels = keras.utils.to_categorical(test_labels, num_classes)"
   ]
  },
  {
   "cell_type": "markdown",
   "metadata": {},
   "source": [
    "## Training and attacking - non distilled model"
   ]
  },
  {
   "cell_type": "code",
   "execution_count": 14,
   "metadata": {
    "collapsed": true,
    "jupyter": {
     "outputs_hidden": true
    }
   },
   "outputs": [
    {
     "name": "stdout",
     "output_type": "stream",
     "text": [
      "Epoch 1/12\n",
      "469/469 [==============================] - 24s 48ms/step - loss: 1.0037 - categorical_accuracy: 0.6733 - val_loss: 0.3227 - val_categorical_accuracy: 0.9101\n",
      "Epoch 2/12\n",
      "469/469 [==============================] - 22s 47ms/step - loss: 0.4906 - categorical_accuracy: 0.8476 - val_loss: 0.2549 - val_categorical_accuracy: 0.9271\n",
      "Epoch 3/12\n",
      "469/469 [==============================] - 22s 47ms/step - loss: 0.4164 - categorical_accuracy: 0.8716 - val_loss: 0.2216 - val_categorical_accuracy: 0.9359\n",
      "Epoch 4/12\n",
      "469/469 [==============================] - 22s 47ms/step - loss: 0.3713 - categorical_accuracy: 0.8861 - val_loss: 0.1941 - val_categorical_accuracy: 0.9430\n",
      "Epoch 5/12\n",
      "469/469 [==============================] - 22s 48ms/step - loss: 0.3356 - categorical_accuracy: 0.8985 - val_loss: 0.1731 - val_categorical_accuracy: 0.9499\n",
      "Epoch 6/12\n",
      "469/469 [==============================] - 23s 48ms/step - loss: 0.3041 - categorical_accuracy: 0.9087 - val_loss: 0.1583 - val_categorical_accuracy: 0.9532\n",
      "Epoch 7/12\n",
      "469/469 [==============================] - 22s 48ms/step - loss: 0.2797 - categorical_accuracy: 0.9152 - val_loss: 0.1431 - val_categorical_accuracy: 0.9570\n",
      "Epoch 8/12\n",
      "469/469 [==============================] - 23s 48ms/step - loss: 0.2599 - categorical_accuracy: 0.9221 - val_loss: 0.1297 - val_categorical_accuracy: 0.9611\n",
      "Epoch 9/12\n",
      "469/469 [==============================] - 23s 48ms/step - loss: 0.2419 - categorical_accuracy: 0.9274 - val_loss: 0.1214 - val_categorical_accuracy: 0.9639\n",
      "Epoch 10/12\n",
      "469/469 [==============================] - 23s 48ms/step - loss: 0.2246 - categorical_accuracy: 0.9313 - val_loss: 0.1130 - val_categorical_accuracy: 0.9660\n",
      "Epoch 11/12\n",
      "469/469 [==============================] - 23s 48ms/step - loss: 0.2150 - categorical_accuracy: 0.9357 - val_loss: 0.1064 - val_categorical_accuracy: 0.9672\n",
      "Epoch 12/12\n",
      "469/469 [==============================] - 23s 49ms/step - loss: 0.2043 - categorical_accuracy: 0.9391 - val_loss: 0.1000 - val_categorical_accuracy: 0.9696\n"
     ]
    }
   ],
   "source": [
    "model = train_model(num_classes, train_images, train_labels, test_images, test_labels)"
   ]
  },
  {
   "cell_type": "code",
   "execution_count": 39,
   "metadata": {},
   "outputs": [
    {
     "name": "stdout",
     "output_type": "stream",
     "text": [
      "FGSM:\n",
      "Test loss: 6.95\n",
      "Successfully moved out of source class: 0.99\n",
      "Mean perturbation distance: 0.17\n"
     ]
    },
    {
     "data": {
      "image/png": "[encoded data removed]",
      "text/plain": [
       "<Figure size 432x288 with 1 Axes>"
      ]
     },
     "metadata": {
      "needs_background": "light"
     },
     "output_type": "display_data"
    },
    {
     "name": "stdout",
     "output_type": "stream",
     "text": [
      "TGSM:\n",
      "Test loss: 4.30\n",
      "Successfully moved out of source class: 0.95\n",
      "targeted_mode\n",
      "Test loss: 0.35\n",
      "Successfully perturbed to target class: 0.92\n",
      "Mean perturbation distance: 0.17\n"
     ]
    },
    {
     "data": {
      "image/png": "[encoded data removed]",
      "text/plain": [
       "<Figure size 432x288 with 1 Axes>"
      ]
     },
     "metadata": {
      "needs_background": "light"
     },
     "output_type": "display_data"
    },
    {
     "name": "stdout",
     "output_type": "stream",
     "text": [
      "non targeted PGD:\n",
      "Test loss: 2.60\n",
      "Successfully moved out of source class: 0.74\n",
      "Mean perturbation distance: 0.11\n"
     ]
    },
    {
     "data": {
      "image/png": "[encoded data removed]",
      "text/plain": [
       "<Figure size 432x288 with 1 Axes>"
      ]
     },
     "metadata": {
      "needs_background": "light"
     },
     "output_type": "display_data"
    },
    {
     "name": "stdout",
     "output_type": "stream",
     "text": [
      "targeted PGD\n",
      "Test loss: 1.06\n",
      "Successfully moved out of source class: 0.36\n",
      "targeted_mode\n",
      "Test loss: 2.79\n",
      "Successfully perturbed to target class: 0.32\n",
      "Mean perturbation distance: 0.11\n"
     ]
    },
    {
     "data": {
      "image/png": "[encoded data removed]",
      "text/plain": [
       "<Figure size 432x288 with 1 Axes>"
      ]
     },
     "metadata": {
      "needs_background": "light"
     },
     "output_type": "display_data"
    }
   ],
   "source": [
    "attack_model(model, test_images, test_labels, num_classes)"
   ]
  },
  {
   "cell_type": "markdown",
   "metadata": {},
   "source": [
    "## Training and attacking - distilled model"
   ]
  },
  {
   "cell_type": "code",
   "execution_count": 48,
   "metadata": {
    "collapsed": true,
    "jupyter": {
     "outputs_hidden": true
    }
   },
   "outputs": [
    {
     "name": "stdout",
     "output_type": "stream",
     "text": [
      "Epoch 1/12\n",
      "469/469 [==============================] - 23s 47ms/step - loss: 2.2508 - categorical_accuracy: 0.2320 - val_loss: 1.6336 - val_categorical_accuracy: 0.6878\n",
      "Epoch 2/12\n",
      "469/469 [==============================] - 23s 49ms/step - loss: 0.7947 - categorical_accuracy: 0.7503 - val_loss: 0.3604 - val_categorical_accuracy: 0.8991\n",
      "Epoch 3/12\n",
      "469/469 [==============================] - 23s 48ms/step - loss: 0.5320 - categorical_accuracy: 0.8331 - val_loss: 0.3016 - val_categorical_accuracy: 0.9121\n",
      "Epoch 4/12\n",
      "469/469 [==============================] - 22s 46ms/step - loss: 0.4786 - categorical_accuracy: 0.8501 - val_loss: 0.2704 - val_categorical_accuracy: 0.9220\n",
      "Epoch 5/12\n",
      "469/469 [==============================] - 21s 45ms/step - loss: 0.4417 - categorical_accuracy: 0.8642 - val_loss: 0.2511 - val_categorical_accuracy: 0.9261\n",
      "Epoch 6/12\n",
      "469/469 [==============================] - 22s 46ms/step - loss: 0.4184 - categorical_accuracy: 0.8706 - val_loss: 0.2348 - val_categorical_accuracy: 0.9299\n",
      "Epoch 7/12\n",
      "469/469 [==============================] - 23s 48ms/step - loss: 0.3931 - categorical_accuracy: 0.8784 - val_loss: 0.2216 - val_categorical_accuracy: 0.9346\n",
      "Epoch 8/12\n",
      "469/469 [==============================] - 22s 46ms/step - loss: 0.3733 - categorical_accuracy: 0.8844 - val_loss: 0.2078 - val_categorical_accuracy: 0.9386\n",
      "Epoch 9/12\n",
      "469/469 [==============================] - 22s 46ms/step - loss: 0.3638 - categorical_accuracy: 0.8888 - val_loss: 0.2004 - val_categorical_accuracy: 0.9403\n",
      "Epoch 10/12\n",
      "469/469 [==============================] - 21s 45ms/step - loss: 0.3495 - categorical_accuracy: 0.8927 - val_loss: 0.1901 - val_categorical_accuracy: 0.9441\n",
      "Epoch 11/12\n",
      "469/469 [==============================] - 22s 46ms/step - loss: 0.3395 - categorical_accuracy: 0.8956 - val_loss: 0.1851 - val_categorical_accuracy: 0.9450\n",
      "Epoch 12/12\n",
      "469/469 [==============================] - 22s 46ms/step - loss: 0.3301 - categorical_accuracy: 0.8989 - val_loss: 0.1798 - val_categorical_accuracy: 0.9472\n",
      "Epoch 1/12\n",
      "469/469 [==============================] - 23s 45ms/step - loss: 2.2105 - categorical_accuracy: 0.2524 - val_loss: 1.1946 - val_categorical_accuracy: 0.7999\n",
      "Epoch 2/12\n",
      "469/469 [==============================] - 21s 44ms/step - loss: 0.7064 - categorical_accuracy: 0.7896 - val_loss: 0.3428 - val_categorical_accuracy: 0.9328\n",
      "Epoch 3/12\n",
      "469/469 [==============================] - 19s 41ms/step - loss: 0.5083 - categorical_accuracy: 0.8632 - val_loss: 0.3045 - val_categorical_accuracy: 0.9450\n",
      "Epoch 4/12\n",
      "469/469 [==============================] - 17s 36ms/step - loss: 0.4608 - categorical_accuracy: 0.8815 - val_loss: 0.2843 - val_categorical_accuracy: 0.9537\n",
      "Epoch 5/12\n",
      "469/469 [==============================] - 16s 35ms/step - loss: 0.4317 - categorical_accuracy: 0.8954 - val_loss: 0.2731 - val_categorical_accuracy: 0.9581\n",
      "Epoch 6/12\n",
      "469/469 [==============================] - 16s 35ms/step - loss: 0.4178 - categorical_accuracy: 0.9015 - val_loss: 0.2670 - val_categorical_accuracy: 0.9619\n",
      "Epoch 7/12\n",
      "469/469 [==============================] - 16s 35ms/step - loss: 0.4054 - categorical_accuracy: 0.9075 - val_loss: 0.2617 - val_categorical_accuracy: 0.9666\n",
      "Epoch 8/12\n",
      "469/469 [==============================] - 16s 35ms/step - loss: 0.3972 - categorical_accuracy: 0.9110 - val_loss: 0.2590 - val_categorical_accuracy: 0.9686\n",
      "Epoch 9/12\n",
      "469/469 [==============================] - 16s 35ms/step - loss: 0.3871 - categorical_accuracy: 0.9169 - val_loss: 0.2556 - val_categorical_accuracy: 0.9718\n",
      "Epoch 10/12\n",
      "469/469 [==============================] - 16s 35ms/step - loss: 0.3829 - categorical_accuracy: 0.9181 - val_loss: 0.2548 - val_categorical_accuracy: 0.9723\n",
      "Epoch 11/12\n",
      "469/469 [==============================] - 17s 36ms/step - loss: 0.3775 - categorical_accuracy: 0.9221 - val_loss: 0.2518 - val_categorical_accuracy: 0.9738\n",
      "Epoch 12/12\n",
      "469/469 [==============================] - 17s 36ms/step - loss: 0.3724 - categorical_accuracy: 0.9230 - val_loss: 0.2513 - val_categorical_accuracy: 0.9730\n"
     ]
    }
   ],
   "source": [
    "train_temp = 30\n",
    "dist_teacher_model, dist_student_model = defensive_distilation(num_classes, train_images, train_labels, test_images, test_labels, temp=train_temp)"
   ]
  },
  {
   "cell_type": "code",
   "execution_count": 49,
   "metadata": {},
   "outputs": [
    {
     "name": "stdout",
     "output_type": "stream",
     "text": [
      "FGSM:\n",
      "Test loss: 2.51\n",
      "Successfully moved out of source class: 0.30\n",
      "Mean perturbation distance: 0.05\n"
     ]
    },
    {
     "data": {
      "image/png": "[encoded data removed]",
      "text/plain": [
       "<Figure size 432x288 with 1 Axes>"
      ]
     },
     "metadata": {
      "needs_background": "light"
     },
     "output_type": "display_data"
    },
    {
     "name": "stdout",
     "output_type": "stream",
     "text": [
      "TGSM:\n",
      "Test loss: 2.09\n",
      "Successfully moved out of source class: 0.93\n",
      "targeted_mode\n",
      "Test loss: 1.23\n",
      "Successfully perturbed to target class: 0.85\n",
      "Mean perturbation distance: 0.14\n"
     ]
    },
    {
     "data": {
      "image/png": "[encoded data removed]",
      "text/plain": [
       "<Figure size 432x288 with 1 Axes>"
      ]
     },
     "metadata": {
      "needs_background": "light"
     },
     "output_type": "display_data"
    },
    {
     "name": "stdout",
     "output_type": "stream",
     "text": [
      "non targeted PGD:\n",
      "Test loss: 1.48\n",
      "Successfully moved out of source class: 0.29\n",
      "Mean perturbation distance: 0.03\n"
     ]
    },
    {
     "data": {
      "image/png": "[encoded data removed]",
      "text/plain": [
       "<Figure size 432x288 with 1 Axes>"
      ]
     },
     "metadata": {
      "needs_background": "light"
     },
     "output_type": "display_data"
    },
    {
     "name": "stdout",
     "output_type": "stream",
     "text": [
      "targeted PGD\n",
      "Test loss: 1.17\n",
      "Successfully moved out of source class: 0.45\n",
      "targeted_mode\n",
      "Test loss: 2.80\n",
      "Successfully perturbed to target class: 0.39\n",
      "Mean perturbation distance: 0.11\n"
     ]
    },
    {
     "data": {
      "image/png": "[encoded data removed]",
      "text/plain": [
       "<Figure size 432x288 with 1 Axes>"
      ]
     },
     "metadata": {
      "needs_background": "light"
     },
     "output_type": "display_data"
    }
   ],
   "source": [
    "attack_model(dist_student_model, test_images, test_labels, num_classes)"
   ]
  },
  {
   "cell_type": "markdown",
   "metadata": {},
   "source": [
    "## 2-class classifier"
   ]
  },
  {
   "cell_type": "markdown",
   "metadata": {},
   "source": [
    "### Filtering data"
   ]
  },
  {
   "cell_type": "code",
   "execution_count": 88,
   "metadata": {},
   "outputs": [
    {
     "name": "stdout",
     "output_type": "stream",
     "text": [
      "[9 4]\n"
     ]
    }
   ],
   "source": [
    "filter_num_classes = 2\n",
    "targets_selected = np.random.choice(num_classes, filter_num_classes)\n",
    "print(targets_selected)"
   ]
  },
  {
   "cell_type": "code",
   "execution_count": 89,
   "metadata": {},
   "outputs": [],
   "source": [
    "train_filtered_indices_boolean = (train_labels == keras.utils.to_categorical(targets_selected[0], num_classes)).all(axis=1) | (train_labels == keras.utils.to_categorical(targets_selected[1], num_classes)).all(axis=1)\n",
    "test_filtered_indices_boolean = (test_labels == keras.utils.to_categorical(targets_selected[0], num_classes)).all(axis=1) | (test_labels == keras.utils.to_categorical(targets_selected[1], num_classes)).all(axis=1)\n",
    "\n",
    "train_images_filtered = train_images[train_filtered_indices_boolean]\n",
    "test_images_filtered = test_images[test_filtered_indices_boolean]\n",
    "\n",
    "train_labels_filtered = train_labels[train_filtered_indices_boolean][:, targets_selected]\n",
    "test_labels_filtered = test_labels[test_filtered_indices_boolean][:, targets_selected]"
   ]
  },
  {
   "cell_type": "markdown",
   "metadata": {},
   "source": [
    "### training and attacking"
   ]
  },
  {
   "cell_type": "code",
   "execution_count": 90,
   "metadata": {
    "collapsed": true,
    "jupyter": {
     "outputs_hidden": true
    }
   },
   "outputs": [
    {
     "name": "stdout",
     "output_type": "stream",
     "text": [
      "Epoch 1/12\n",
      "93/93 [==============================] - 4s 35ms/step - loss: 0.5293 - categorical_accuracy: 0.7699 - val_loss: 0.2801 - val_categorical_accuracy: 0.9211\n",
      "Epoch 2/12\n",
      "93/93 [==============================] - 3s 35ms/step - loss: 0.2318 - categorical_accuracy: 0.9209 - val_loss: 0.1200 - val_categorical_accuracy: 0.9663\n",
      "Epoch 3/12\n",
      "93/93 [==============================] - 3s 33ms/step - loss: 0.1520 - categorical_accuracy: 0.9468 - val_loss: 0.0905 - val_categorical_accuracy: 0.9724\n",
      "Epoch 4/12\n",
      "93/93 [==============================] - 3s 31ms/step - loss: 0.1250 - categorical_accuracy: 0.9569 - val_loss: 0.0716 - val_categorical_accuracy: 0.9764\n",
      "Epoch 5/12\n",
      "93/93 [==============================] - 3s 35ms/step - loss: 0.1089 - categorical_accuracy: 0.9624 - val_loss: 0.0616 - val_categorical_accuracy: 0.9779\n",
      "Epoch 6/12\n",
      "93/93 [==============================] - 3s 35ms/step - loss: 0.0997 - categorical_accuracy: 0.9653 - val_loss: 0.0540 - val_categorical_accuracy: 0.9814\n",
      "Epoch 7/12\n",
      "93/93 [==============================] - 3s 34ms/step - loss: 0.0875 - categorical_accuracy: 0.9714 - val_loss: 0.0485 - val_categorical_accuracy: 0.9824\n",
      "Epoch 8/12\n",
      "93/93 [==============================] - 3s 36ms/step - loss: 0.0774 - categorical_accuracy: 0.9743 - val_loss: 0.0437 - val_categorical_accuracy: 0.9839\n",
      "Epoch 9/12\n",
      "93/93 [==============================] - 3s 37ms/step - loss: 0.0739 - categorical_accuracy: 0.9762 - val_loss: 0.0410 - val_categorical_accuracy: 0.9849\n",
      "Epoch 10/12\n",
      "93/93 [==============================] - 3s 36ms/step - loss: 0.0718 - categorical_accuracy: 0.9759 - val_loss: 0.0371 - val_categorical_accuracy: 0.9874\n",
      "Epoch 11/12\n",
      "93/93 [==============================] - 3s 36ms/step - loss: 0.0636 - categorical_accuracy: 0.9785 - val_loss: 0.0350 - val_categorical_accuracy: 0.9869\n",
      "Epoch 12/12\n",
      "93/93 [==============================] - 3s 36ms/step - loss: 0.0594 - categorical_accuracy: 0.9800 - val_loss: 0.0323 - val_categorical_accuracy: 0.9864\n"
     ]
    }
   ],
   "source": [
    "non_distilled_model_2 = train_model(filter_num_classes, train_images_filtered, train_labels_filtered, test_images_filtered, test_labels_filtered)"
   ]
  },
  {
   "cell_type": "code",
   "execution_count": 93,
   "metadata": {},
   "outputs": [
    {
     "name": "stdout",
     "output_type": "stream",
     "text": [
      "FGSM:\n",
      "Test loss: 6.93\n",
      "Successfully moved out of source class: 1.00\n",
      "Mean perturbation distance: 0.16\n"
     ]
    },
    {
     "data": {
      "image/png": "[encoded data removed]",
      "text/plain": [
       "<Figure size 432x288 with 1 Axes>"
      ]
     },
     "metadata": {
      "needs_background": "light"
     },
     "output_type": "display_data"
    },
    {
     "name": "stdout",
     "output_type": "stream",
     "text": [
      "TGSM:\n",
      "Test loss: 6.93\n",
      "Successfully moved out of source class: 1.00\n",
      "targeted_mode\n",
      "Test loss: 0.01\n",
      "Successfully perturbed to target class: 1.00\n",
      "Mean perturbation distance: 0.16\n"
     ]
    },
    {
     "data": {
      "image/png": "[encoded data removed]",
      "text/plain": [
       "<Figure size 432x288 with 1 Axes>"
      ]
     },
     "metadata": {
      "needs_background": "light"
     },
     "output_type": "display_data"
    },
    {
     "name": "stdout",
     "output_type": "stream",
     "text": [
      "non targeted PGD:\n",
      "Test loss: 2.34\n",
      "Successfully moved out of source class: 0.77\n",
      "Mean perturbation distance: 0.11\n"
     ]
    },
    {
     "data": {
      "image/png": "[encoded data removed]",
      "text/plain": [
       "<Figure size 432x288 with 1 Axes>"
      ]
     },
     "metadata": {
      "needs_background": "light"
     },
     "output_type": "display_data"
    },
    {
     "name": "stdout",
     "output_type": "stream",
     "text": [
      "targeted PGD\n",
      "Test loss: 2.34\n",
      "Successfully moved out of source class: 0.77\n",
      "targeted_mode\n",
      "Test loss: 0.52\n",
      "Successfully perturbed to target class: 0.77\n",
      "Mean perturbation distance: 0.11\n"
     ]
    },
    {
     "data": {
      "image/png": "[encoded data removed]",
      "text/plain": [
       "<Figure size 432x288 with 1 Axes>"
      ]
     },
     "metadata": {
      "needs_background": "light"
     },
     "output_type": "display_data"
    }
   ],
   "source": [
    "attack_model(non_distilled_model_2, test_images_filtered, test_labels_filtered, filter_num_classes)"
   ]
  },
  {
   "cell_type": "code",
   "execution_count": 91,
   "metadata": {},
   "outputs": [
    {
     "name": "stdout",
     "output_type": "stream",
     "text": [
      "Epoch 1/12\n",
      "93/93 [==============================] - 3s 34ms/step - loss: 0.6926 - categorical_accuracy: 0.5375 - val_loss: 0.6916 - val_categorical_accuracy: 0.7328\n",
      "Epoch 2/12\n",
      "93/93 [==============================] - 3s 30ms/step - loss: 0.6906 - categorical_accuracy: 0.6349 - val_loss: 0.6885 - val_categorical_accuracy: 0.8302\n",
      "Epoch 3/12\n",
      "93/93 [==============================] - 3s 35ms/step - loss: 0.6857 - categorical_accuracy: 0.7088 - val_loss: 0.6791 - val_categorical_accuracy: 0.8468\n",
      "Epoch 4/12\n",
      "93/93 [==============================] - 3s 34ms/step - loss: 0.6643 - categorical_accuracy: 0.7703 - val_loss: 0.6292 - val_categorical_accuracy: 0.8438\n",
      "Epoch 5/12\n",
      "93/93 [==============================] - 3s 36ms/step - loss: 0.5488 - categorical_accuracy: 0.8104 - val_loss: 0.3964 - val_categorical_accuracy: 0.8800\n",
      "Epoch 6/12\n",
      "93/93 [==============================] - 4s 38ms/step - loss: 0.3506 - categorical_accuracy: 0.8691 - val_loss: 0.2299 - val_categorical_accuracy: 0.9206\n",
      "Epoch 7/12\n",
      "93/93 [==============================] - 4s 39ms/step - loss: 0.2517 - categorical_accuracy: 0.9054 - val_loss: 0.1711 - val_categorical_accuracy: 0.9407\n",
      "Epoch 8/12\n",
      "93/93 [==============================] - 3s 37ms/step - loss: 0.2214 - categorical_accuracy: 0.9185 - val_loss: 0.1347 - val_categorical_accuracy: 0.9558\n",
      "Epoch 9/12\n",
      "93/93 [==============================] - 4s 38ms/step - loss: 0.2038 - categorical_accuracy: 0.9243 - val_loss: 0.1270 - val_categorical_accuracy: 0.9573\n",
      "Epoch 10/12\n",
      "93/93 [==============================] - 3s 38ms/step - loss: 0.1881 - categorical_accuracy: 0.9316 - val_loss: 0.1163 - val_categorical_accuracy: 0.9608\n",
      "Epoch 11/12\n",
      "93/93 [==============================] - 3s 37ms/step - loss: 0.1843 - categorical_accuracy: 0.9314 - val_loss: 0.1122 - val_categorical_accuracy: 0.9623\n",
      "Epoch 12/12\n",
      "93/93 [==============================] - 4s 38ms/step - loss: 0.1807 - categorical_accuracy: 0.9329 - val_loss: 0.1070 - val_categorical_accuracy: 0.9643\n",
      "Epoch 1/12\n",
      "93/93 [==============================] - 4s 39ms/step - loss: 0.6932 - categorical_accuracy: 0.4911 - val_loss: 0.6923 - val_categorical_accuracy: 0.6007\n",
      "Epoch 2/12\n",
      "93/93 [==============================] - 3s 37ms/step - loss: 0.6913 - categorical_accuracy: 0.5865 - val_loss: 0.6896 - val_categorical_accuracy: 0.6188\n",
      "Epoch 3/12\n",
      "93/93 [==============================] - 3s 38ms/step - loss: 0.6866 - categorical_accuracy: 0.6277 - val_loss: 0.6808 - val_categorical_accuracy: 0.6273\n",
      "Epoch 4/12\n",
      "93/93 [==============================] - 3s 37ms/step - loss: 0.6675 - categorical_accuracy: 0.6747 - val_loss: 0.6376 - val_categorical_accuracy: 0.7378\n",
      "Epoch 5/12\n",
      "93/93 [==============================] - 4s 39ms/step - loss: 0.5617 - categorical_accuracy: 0.7963 - val_loss: 0.4234 - val_categorical_accuracy: 0.8699\n",
      "Epoch 6/12\n",
      "93/93 [==============================] - 3s 37ms/step - loss: 0.3770 - categorical_accuracy: 0.8672 - val_loss: 0.2586 - val_categorical_accuracy: 0.9422\n",
      "Epoch 7/12\n",
      "93/93 [==============================] - 4s 39ms/step - loss: 0.2883 - categorical_accuracy: 0.9146 - val_loss: 0.2022 - val_categorical_accuracy: 0.9689\n",
      "Epoch 8/12\n",
      "93/93 [==============================] - 4s 39ms/step - loss: 0.2567 - categorical_accuracy: 0.9322 - val_loss: 0.1829 - val_categorical_accuracy: 0.9789\n",
      "Epoch 9/12\n",
      "93/93 [==============================] - 3s 37ms/step - loss: 0.2391 - categorical_accuracy: 0.9411 - val_loss: 0.1738 - val_categorical_accuracy: 0.9844\n",
      "Epoch 10/12\n",
      "93/93 [==============================] - 4s 45ms/step - loss: 0.2283 - categorical_accuracy: 0.9474 - val_loss: 0.1701 - val_categorical_accuracy: 0.9869\n",
      "Epoch 11/12\n",
      "93/93 [==============================] - 4s 46ms/step - loss: 0.2264 - categorical_accuracy: 0.9470 - val_loss: 0.1682 - val_categorical_accuracy: 0.9884\n",
      "Epoch 12/12\n",
      "93/93 [==============================] - 4s 41ms/step - loss: 0.2209 - categorical_accuracy: 0.9516 - val_loss: 0.1677 - val_categorical_accuracy: 0.9895\n"
     ]
    }
   ],
   "source": [
    "dist_teacher_model_2, dist_student_model_2 = defensive_distilation(filter_num_classes, train_images_filtered, train_labels_filtered, test_images_filtered, test_labels_filtered, temp=train_temp)"
   ]
  },
  {
   "cell_type": "code",
   "execution_count": 92,
   "metadata": {},
   "outputs": [
    {
     "name": "stdout",
     "output_type": "stream",
     "text": [
      "FGSM:\n",
      "Test loss: 2.37\n",
      "Successfully moved out of source class: 0.32\n",
      "Mean perturbation distance: 0.06\n"
     ]
    },
    {
     "data": {
      "image/png": "[encoded data removed]",
      "text/plain": [
       "<Figure size 432x288 with 1 Axes>"
      ]
     },
     "metadata": {
      "needs_background": "light"
     },
     "output_type": "display_data"
    },
    {
     "name": "stdout",
     "output_type": "stream",
     "text": [
      "TGSM:\n",
      "Test loss: 3.01\n",
      "Successfully moved out of source class: 1.00\n",
      "targeted_mode\n",
      "Test loss: 0.05\n",
      "Successfully perturbed to target class: 1.00\n",
      "Mean perturbation distance: 0.11\n"
     ]
    },
    {
     "data": {
      "image/png": "[encoded data removed]",
      "text/plain": [
       "<Figure size 432x288 with 1 Axes>"
      ]
     },
     "metadata": {
      "needs_background": "light"
     },
     "output_type": "display_data"
    },
    {
     "name": "stdout",
     "output_type": "stream",
     "text": [
      "non targeted PGD:\n",
      "Test loss: 1.29\n",
      "Successfully moved out of source class: 0.32\n",
      "Mean perturbation distance: 0.03\n"
     ]
    },
    {
     "data": {
      "image/png": "[encoded data removed]",
      "text/plain": [
       "<Figure size 432x288 with 1 Axes>"
      ]
     },
     "metadata": {
      "needs_background": "light"
     },
     "output_type": "display_data"
    },
    {
     "name": "stdout",
     "output_type": "stream",
     "text": [
      "targeted PGD\n",
      "Test loss: 2.26\n",
      "Successfully moved out of source class: 0.86\n",
      "targeted_mode\n",
      "Test loss: 0.34\n",
      "Successfully perturbed to target class: 0.86\n",
      "Mean perturbation distance: 0.10\n"
     ]
    },
    {
     "data": {
      "image/png": "[encoded data removed]",
      "text/plain": [
       "<Figure size 432x288 with 1 Axes>"
      ]
     },
     "metadata": {
      "needs_background": "light"
     },
     "output_type": "display_data"
    }
   ],
   "source": [
    "attack_model(dist_student_model_2, test_images_filtered, test_labels_filtered, filter_num_classes)"
   ]
  },
  {
   "cell_type": "code",
   "execution_count": 141,
   "metadata": {},
   "outputs": [],
   "source": [
    "def visualize_analysis(model,  images, labels, title):\n",
    "    logits = model(images)\n",
    "    softmax = keras.activations.softmax(logits, axis=-1)\n",
    "    print(logits.shape)\n",
    "    print(softmax.shape)\n",
    "    logits_range = max(abs(logits.numpy().min()), abs(logits.numpy().max()))\n",
    "    logits_x = np.linspace(-logits_range, logits_range, 100)\n",
    "    softmax_x = np.linspace(0, softmax.numpy().max(), 100)\n",
    "\n",
    "    print(logits.shape)\n",
    "    fig, (ax1, ax2) = plt.subplots(1, 2, figsize=(15,5))\n",
    "    fig.suptitle(title)\n",
    "    ax1.scatter(logits[:, 0], logits[:, 1])\n",
    "    ax1.plot(logits_x, logits_x, 'k--')\n",
    "    ax1.plot(logits_x, -logits_x, 'k--')\n",
    "    ax1.set_title('logits')\n",
    "    ax1.set_xlabel('logit[0]')\n",
    "    ax1.set_ylabel('logit[1]')\n",
    "    \n",
    "    ax2.scatter(softmax[:, 0], softmax[:, 1])\n",
    "    ax2.plot(softmax_x, softmax_x, 'k--')\n",
    "    ax2.set_title('softmax')\n",
    "    ax2.set_xlabel('softmax[0]')\n",
    "    ax2.set_ylabel('softmax[1]')"
   ]
  },
  {
   "cell_type": "code",
   "execution_count": 138,
   "metadata": {},
   "outputs": [
    {
     "name": "stdout",
     "output_type": "stream",
     "text": [
      "(5842, 2)\n",
      "(5842, 2)\n",
      "(5842, 2)\n"
     ]
    },
    {
     "data": {
      "image/png": "[encoded data removed]",
      "text/plain": [
       "<Figure size 1080x360 with 2 Axes>"
      ]
     },
     "metadata": {
      "needs_background": "light"
     },
     "output_type": "display_data"
    }
   ],
   "source": [
    "visualize_analysis(non_distilled_model_2, train_images_filtered[train_labels_filtered[:, 1]==1], train_labels_filtered[train_labels_filtered[:, 1]==1], title='non distiled model')"
   ]
  },
  {
   "cell_type": "code",
   "execution_count": 142,
   "metadata": {},
   "outputs": [
    {
     "name": "stdout",
     "output_type": "stream",
     "text": [
      "(5842, 2)\n",
      "(5842, 2)\n",
      "(5842, 2)\n"
     ]
    },
    {
     "data": {
      "image/png": "[encoded data removed]",
      "text/plain": [
       "<Figure size 1080x360 with 2 Axes>"
      ]
     },
     "metadata": {
      "needs_background": "light"
     },
     "output_type": "display_data"
    }
   ],
   "source": [
    "visualize_analysis(dist_student_model_2, train_images_filtered[train_labels_filtered[:, 1]==1], train_labels_filtered[train_labels_filtered[:, 1]==1], title='distiled model')"
   ]
  }
 ],
 "metadata": {
  "kernelspec": {
   "display_name": "Python 3",
   "language": "python",
   "name": "python3"
  },
  "language_info": {
   "codemirror_mode": {
    "name": "ipython",
    "version": 3
   },
   "file_extension": ".py",
   "mimetype": "text/x-python",
   "name": "python",
   "nbconvert_exporter": "python",
   "pygments_lexer": "ipython3",
   "version": "3.7.4"
  }
 },
 "nbformat": 4,
 "nbformat_minor": 4
}
