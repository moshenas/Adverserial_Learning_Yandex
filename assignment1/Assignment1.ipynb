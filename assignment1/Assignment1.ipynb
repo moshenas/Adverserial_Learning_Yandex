{
 "cells": [
  {
   "cell_type": "markdown",
   "metadata": {},
   "source": [
    "# Assinment 1 - Adverserial Learning\n",
    "\n",
    "## Eitamar Saraf, Moshe Nasletashvili"
   ]
  },
  {
   "cell_type": "markdown",
   "metadata": {},
   "source": [
    "### Load MNIST dataset"
   ]
  },
  {
   "cell_type": "code",
   "execution_count": 1,
   "metadata": {},
   "outputs": [],
   "source": [
    "import torch\n",
    "import torchvision"
   ]
  },
  {
   "cell_type": "code",
   "execution_count": 2,
   "metadata": {
    "scrolled": true
   },
   "outputs": [],
   "source": [
    "mnist_train_dataset = torchvision.datasets.MNIST(r'.\\Datasets', train=True,\n",
    "                                                transform=torchvision.transforms.Compose([\n",
    "                                                    torchvision.transforms.ToTensor(),\n",
    "                                                    torchvision.transforms.Normalize((0.1307,), (0.3081,))]))\n",
    "mnist_test_dataset = torchvision.datasets.MNIST(r'.\\Datasets', train=False,\n",
    "                                                transform=torchvision.transforms.Compose([\n",
    "                                                    torchvision.transforms.ToTensor(),\n",
    "                                                    torchvision.transforms.Normalize((0.1307,), (0.3081,))]))"
   ]
  },
  {
   "cell_type": "markdown",
   "metadata": {},
   "source": [
    "### Some examples"
   ]
  },
  {
   "cell_type": "code",
   "execution_count": 7,
   "metadata": {},
   "outputs": [],
   "source": [
    "import matplotlib.pyplot as plt\n",
    "import numpy as np"
   ]
  },
  {
   "cell_type": "code",
   "execution_count": 84,
   "metadata": {
    "scrolled": true
   },
   "outputs": [
    {
     "data": {
      "image/png": "[encoded data removed]",
      "text/plain": [
       "<Figure size 1080x1080 with 5 Axes>"
      ]
     },
     "metadata": {
      "needs_background": "light"
     },
     "output_type": "display_data"
    }
   ],
   "source": [
    "num_plots = 5\n",
    "fig, axis = plt.subplots(nrows=num_plots, figsize=(15,15)) \n",
    "for idx, image_idx in enumerate(np.random.randint(len(mnist_train_dataset), size=num_plots)):\n",
    "    axis[idx].imshow(mnist_train_dataset[image_idx][0].squeeze())\n",
    "    axis[idx].set_title(f'Label: {mnist_train_dataset[image_idx][1]}')"
   ]
  },
  {
   "cell_type": "markdown",
   "metadata": {},
   "source": [
    "### Defining net architecture"
   ]
  },
  {
   "cell_type": "code",
   "execution_count": 14,
   "metadata": {},
   "outputs": [],
   "source": [
    "import torch.nn as nn\n",
    "import torch.nn.functional as F"
   ]
  },
  {
   "cell_type": "code",
   "execution_count": 15,
   "metadata": {},
   "outputs": [],
   "source": [
    "class MNIST_net(nn.Module):\n",
    "    \n",
    "    def __init__(self):\n",
    "        super(MNIST_net, self).__init__()\n",
    "        self.fc1 = nn.Linear(784, 256)\n",
    "        self.fc2 = nn.Linear(256, 10)\n",
    "        \n",
    "    def forward(self, x):\n",
    "        x = x.view(-1, 784)\n",
    "        x = self.fc1(x)\n",
    "        x = F.relu(x)\n",
    "        x = self.fc2(x)\n",
    "        return F.softmax(x)"
   ]
  },
  {
   "cell_type": "markdown",
   "metadata": {},
   "source": [
    "### training"
   ]
  },
  {
   "cell_type": "code",
   "execution_count": 22,
   "metadata": {},
   "outputs": [],
   "source": [
    "import torch.optim as optim"
   ]
  },
  {
   "cell_type": "code",
   "execution_count": 23,
   "metadata": {},
   "outputs": [],
   "source": [
    "num_epochs = 15\n",
    "batch_size = 64\n",
    "lr = 3e-3\n",
    "weight_decay = 1e-4\n",
    "log_interval = 100"
   ]
  },
  {
   "cell_type": "code",
   "execution_count": 24,
   "metadata": {},
   "outputs": [],
   "source": [
    "net = MNIST_net()\n",
    "optimizer = optim.SGD(params=net.parameters(), lr=lr, weight_decay=weight_decay) #, momentum=0.5)"
   ]
  },
  {
   "cell_type": "code",
   "execution_count": 25,
   "metadata": {},
   "outputs": [],
   "source": [
    "train_loader = torch.utils.data.DataLoader(mnist_train_dataset, batch_size=batch_size, shuffle=True)\n",
    "test_loader = torch.utils.data.DataLoader(mnist_test_dataset, batch_size=batch_size, shuffle=True)"
   ]
  },
  {
   "cell_type": "code",
   "execution_count": 26,
   "metadata": {},
   "outputs": [],
   "source": [
    "train_losses = []\n",
    "train_counter = []\n",
    "test_losses = []\n",
    "test_counter = [i*len(train_loader.dataset) for i in range(num_epochs + 1)]\n",
    "train_accuracy = []\n",
    "test_accuracy = []"
   ]
  },
  {
   "cell_type": "code",
   "execution_count": 27,
   "metadata": {},
   "outputs": [],
   "source": [
    "## training loop\n",
    "def train(train_loader, network, optimizer, epoch, log_interval, loss_function):\n",
    "    correct = 0\n",
    "    network.train()\n",
    "    for batch_idx, (data, target) in enumerate(train_loader):\n",
    "        optimizer.zero_grad()\n",
    "        output = network(data)\n",
    "        loss = loss_function(output, target)\n",
    "        loss.backward()\n",
    "        optimizer.step()\n",
    "        pred = output.data.max(1, keepdim=True)[1]\n",
    "        correct += pred.eq(target.data.view_as(pred)).sum()\n",
    "        if batch_idx % log_interval == 0:\n",
    "            print('Train Epoch: {} [{}/{} ({:.0f}%)]\\tLoss: {:.6f}'.format(\n",
    "                epoch, batch_idx * len(data), len(train_loader.dataset),\n",
    "                100. * batch_idx / len(train_loader), loss.item()))\n",
    "            train_counter.append(\n",
    "                (batch_idx*64) + ((epoch-1)*len(train_loader.dataset)))\n",
    "            train_losses.append(loss.item())\n",
    "            torch.save(network.state_dict(), r'.\\results\\model.pth')\n",
    "            torch.save(optimizer.state_dict(), r'.\\results\\optimizer.pth')\n",
    "    train_accuracy.append(100. * correct / len(train_loader.dataset))"
   ]
  },
  {
   "cell_type": "code",
   "execution_count": 28,
   "metadata": {},
   "outputs": [],
   "source": [
    "def test(test_loader, network, epoch, log_interval):\n",
    "    network.eval()\n",
    "    test_loss = 0\n",
    "    correct = 0\n",
    "    with torch.no_grad():\n",
    "        for data, target in test_loader:\n",
    "            output = network(data)\n",
    "            test_loss += F.nll_loss(output, target, size_average=False).item()\n",
    "            pred = output.data.max(1, keepdim=True)[1]\n",
    "            correct += pred.eq(target.data.view_as(pred)).sum()\n",
    "    test_loss /= len(test_loader.dataset)\n",
    "    test_losses.append(test_loss)\n",
    "    test_accuracy.append(100. * correct / len(test_loader.dataset))\n",
    "    print('\\nTest set: Avg. loss: {:.4f}, Accuracy: {}/{} ({:.0f}%)\\n'.format(\n",
    "      test_loss, correct, len(test_loader.dataset),\n",
    "      100. * correct / len(test_loader.dataset)))"
   ]
  },
  {
   "cell_type": "code",
   "execution_count": 30,
   "metadata": {
    "scrolled": true
   },
   "outputs": [
    {
     "name": "stderr",
     "output_type": "stream",
     "text": [
      "C:\\Users\\moshe.nas\\AppData\\Local\\Continuum\\anaconda3\\lib\\site-packages\\ipykernel_launcher.py:13: UserWarning: Implicit dimension choice for softmax has been deprecated. Change the call to include dim=X as an argument.\n",
      "  del sys.path[0]\n"
     ]
    },
    {
     "name": "stdout",
     "output_type": "stream",
     "text": [
      "Train Epoch: 0 [0/60000 (0%)]\tLoss: -0.104663\n",
      "Train Epoch: 0 [6400/60000 (11%)]\tLoss: -0.104495\n",
      "Train Epoch: 0 [12800/60000 (21%)]\tLoss: -0.112855\n",
      "Train Epoch: 0 [19200/60000 (32%)]\tLoss: -0.123755\n",
      "Train Epoch: 0 [25600/60000 (43%)]\tLoss: -0.116601\n",
      "Train Epoch: 0 [32000/60000 (53%)]\tLoss: -0.146950\n",
      "Train Epoch: 0 [38400/60000 (64%)]\tLoss: -0.144278\n",
      "Train Epoch: 0 [44800/60000 (75%)]\tLoss: -0.166705\n",
      "Train Epoch: 0 [51200/60000 (85%)]\tLoss: -0.222660\n",
      "Train Epoch: 0 [57600/60000 (96%)]\tLoss: -0.278352\n"
     ]
    },
    {
     "name": "stderr",
     "output_type": "stream",
     "text": [
      "C:\\Users\\moshe.nas\\AppData\\Local\\Continuum\\anaconda3\\lib\\site-packages\\torch\\nn\\_reduction.py:42: UserWarning: size_average and reduce args will be deprecated, please use reduction='sum' instead.\n",
      "  warnings.warn(warning.format(ret))\n"
     ]
    },
    {
     "name": "stdout",
     "output_type": "stream",
     "text": [
      "\n",
      "Test set: Avg. loss: -0.2752, Accuracy: 4784/10000 (48%)\n",
      "\n",
      "Train Epoch: 1 [0/60000 (0%)]\tLoss: -0.271835\n",
      "Train Epoch: 1 [6400/60000 (11%)]\tLoss: -0.306004\n",
      "Train Epoch: 1 [12800/60000 (21%)]\tLoss: -0.384948\n",
      "Train Epoch: 1 [19200/60000 (32%)]\tLoss: -0.369092\n",
      "Train Epoch: 1 [25600/60000 (43%)]\tLoss: -0.366010\n",
      "Train Epoch: 1 [32000/60000 (53%)]\tLoss: -0.464230\n",
      "Train Epoch: 1 [38400/60000 (64%)]\tLoss: -0.417647\n",
      "Train Epoch: 1 [44800/60000 (75%)]\tLoss: -0.540767\n",
      "Train Epoch: 1 [51200/60000 (85%)]\tLoss: -0.424054\n",
      "Train Epoch: 1 [57600/60000 (96%)]\tLoss: -0.610355\n",
      "\n",
      "Test set: Avg. loss: -0.4978, Accuracy: 5802/10000 (58%)\n",
      "\n",
      "Train Epoch: 2 [0/60000 (0%)]\tLoss: -0.544514\n",
      "Train Epoch: 2 [6400/60000 (11%)]\tLoss: -0.501616\n",
      "Train Epoch: 2 [12800/60000 (21%)]\tLoss: -0.449423\n",
      "Train Epoch: 2 [19200/60000 (32%)]\tLoss: -0.416960\n",
      "Train Epoch: 2 [25600/60000 (43%)]\tLoss: -0.505755\n",
      "Train Epoch: 2 [32000/60000 (53%)]\tLoss: -0.504171\n",
      "Train Epoch: 2 [38400/60000 (64%)]\tLoss: -0.463194\n",
      "Train Epoch: 2 [44800/60000 (75%)]\tLoss: -0.586550\n",
      "Train Epoch: 2 [51200/60000 (85%)]\tLoss: -0.565494\n",
      "Train Epoch: 2 [57600/60000 (96%)]\tLoss: -0.589709\n",
      "\n",
      "Test set: Avg. loss: -0.6041, Accuracy: 7069/10000 (71%)\n",
      "\n",
      "Train Epoch: 3 [0/60000 (0%)]\tLoss: -0.666373\n",
      "Train Epoch: 3 [6400/60000 (11%)]\tLoss: -0.648049\n",
      "Train Epoch: 3 [12800/60000 (21%)]\tLoss: -0.656258\n",
      "Train Epoch: 3 [19200/60000 (32%)]\tLoss: -0.573223\n",
      "Train Epoch: 3 [25600/60000 (43%)]\tLoss: -0.720734\n",
      "Train Epoch: 3 [32000/60000 (53%)]\tLoss: -0.680462\n",
      "Train Epoch: 3 [38400/60000 (64%)]\tLoss: -0.656667\n",
      "Train Epoch: 3 [44800/60000 (75%)]\tLoss: -0.532943\n",
      "Train Epoch: 3 [51200/60000 (85%)]\tLoss: -0.599019\n",
      "Train Epoch: 3 [57600/60000 (96%)]\tLoss: -0.775275\n",
      "\n",
      "Test set: Avg. loss: -0.6650, Accuracy: 7335/10000 (73%)\n",
      "\n",
      "Train Epoch: 4 [0/60000 (0%)]\tLoss: -0.634697\n",
      "Train Epoch: 4 [6400/60000 (11%)]\tLoss: -0.613464\n",
      "Train Epoch: 4 [12800/60000 (21%)]\tLoss: -0.609414\n",
      "Train Epoch: 4 [19200/60000 (32%)]\tLoss: -0.687226\n",
      "Train Epoch: 4 [25600/60000 (43%)]\tLoss: -0.656097\n",
      "Train Epoch: 4 [32000/60000 (53%)]\tLoss: -0.677367\n",
      "Train Epoch: 4 [38400/60000 (64%)]\tLoss: -0.679650\n",
      "Train Epoch: 4 [44800/60000 (75%)]\tLoss: -0.727207\n",
      "Train Epoch: 4 [51200/60000 (85%)]\tLoss: -0.631358\n",
      "Train Epoch: 4 [57600/60000 (96%)]\tLoss: -0.679226\n",
      "\n",
      "Test set: Avg. loss: -0.6904, Accuracy: 7395/10000 (74%)\n",
      "\n",
      "Train Epoch: 5 [0/60000 (0%)]\tLoss: -0.674050\n",
      "Train Epoch: 5 [6400/60000 (11%)]\tLoss: -0.759318\n",
      "Train Epoch: 5 [12800/60000 (21%)]\tLoss: -0.697414\n",
      "Train Epoch: 5 [19200/60000 (32%)]\tLoss: -0.696552\n",
      "Train Epoch: 5 [25600/60000 (43%)]\tLoss: -0.606455\n",
      "Train Epoch: 5 [32000/60000 (53%)]\tLoss: -0.683286\n",
      "Train Epoch: 5 [38400/60000 (64%)]\tLoss: -0.774426\n",
      "Train Epoch: 5 [44800/60000 (75%)]\tLoss: -0.634339\n",
      "Train Epoch: 5 [51200/60000 (85%)]\tLoss: -0.760048\n",
      "Train Epoch: 5 [57600/60000 (96%)]\tLoss: -0.749902\n",
      "\n",
      "Test set: Avg. loss: -0.7049, Accuracy: 7442/10000 (74%)\n",
      "\n",
      "Train Epoch: 6 [0/60000 (0%)]\tLoss: -0.686761\n",
      "Train Epoch: 6 [6400/60000 (11%)]\tLoss: -0.613903\n",
      "Train Epoch: 6 [12800/60000 (21%)]\tLoss: -0.789004\n",
      "Train Epoch: 6 [19200/60000 (32%)]\tLoss: -0.750939\n",
      "Train Epoch: 6 [25600/60000 (43%)]\tLoss: -0.762962\n",
      "Train Epoch: 6 [32000/60000 (53%)]\tLoss: -0.669039\n",
      "Train Epoch: 6 [38400/60000 (64%)]\tLoss: -0.693709\n",
      "Train Epoch: 6 [44800/60000 (75%)]\tLoss: -0.750443\n",
      "Train Epoch: 6 [51200/60000 (85%)]\tLoss: -0.757193\n",
      "Train Epoch: 6 [57600/60000 (96%)]\tLoss: -0.760070\n",
      "\n",
      "Test set: Avg. loss: -0.7169, Accuracy: 7479/10000 (75%)\n",
      "\n",
      "Train Epoch: 7 [0/60000 (0%)]\tLoss: -0.639784\n",
      "Train Epoch: 7 [6400/60000 (11%)]\tLoss: -0.740754\n",
      "Train Epoch: 7 [12800/60000 (21%)]\tLoss: -0.683475\n",
      "Train Epoch: 7 [19200/60000 (32%)]\tLoss: -0.728731\n",
      "Train Epoch: 7 [25600/60000 (43%)]\tLoss: -0.707628\n",
      "Train Epoch: 7 [32000/60000 (53%)]\tLoss: -0.691886\n",
      "Train Epoch: 7 [38400/60000 (64%)]\tLoss: -0.691883\n",
      "Train Epoch: 7 [44800/60000 (75%)]\tLoss: -0.719655\n",
      "Train Epoch: 7 [51200/60000 (85%)]\tLoss: -0.858519\n",
      "Train Epoch: 7 [57600/60000 (96%)]\tLoss: -0.753411\n",
      "\n",
      "Test set: Avg. loss: -0.7671, Accuracy: 8123/10000 (81%)\n",
      "\n",
      "Train Epoch: 8 [0/60000 (0%)]\tLoss: -0.785491\n",
      "Train Epoch: 8 [6400/60000 (11%)]\tLoss: -0.807456\n",
      "Train Epoch: 8 [12800/60000 (21%)]\tLoss: -0.751550\n",
      "Train Epoch: 8 [19200/60000 (32%)]\tLoss: -0.820959\n",
      "Train Epoch: 8 [25600/60000 (43%)]\tLoss: -0.721678\n",
      "Train Epoch: 8 [32000/60000 (53%)]\tLoss: -0.714366\n",
      "Train Epoch: 8 [38400/60000 (64%)]\tLoss: -0.807603\n",
      "Train Epoch: 8 [44800/60000 (75%)]\tLoss: -0.745855\n",
      "Train Epoch: 8 [51200/60000 (85%)]\tLoss: -0.773869\n",
      "Train Epoch: 8 [57600/60000 (96%)]\tLoss: -0.849894\n",
      "\n",
      "Test set: Avg. loss: -0.7864, Accuracy: 8264/10000 (83%)\n",
      "\n",
      "Train Epoch: 9 [0/60000 (0%)]\tLoss: -0.795214\n",
      "Train Epoch: 9 [6400/60000 (11%)]\tLoss: -0.781365\n",
      "Train Epoch: 9 [12800/60000 (21%)]\tLoss: -0.750029\n",
      "Train Epoch: 9 [19200/60000 (32%)]\tLoss: -0.805977\n",
      "Train Epoch: 9 [25600/60000 (43%)]\tLoss: -0.703146\n",
      "Train Epoch: 9 [32000/60000 (53%)]\tLoss: -0.822885\n",
      "Train Epoch: 9 [38400/60000 (64%)]\tLoss: -0.743865\n",
      "Train Epoch: 9 [44800/60000 (75%)]\tLoss: -0.764601\n",
      "Train Epoch: 9 [51200/60000 (85%)]\tLoss: -0.782783\n",
      "Train Epoch: 9 [57600/60000 (96%)]\tLoss: -0.831821\n",
      "\n",
      "Test set: Avg. loss: -0.7970, Accuracy: 8310/10000 (83%)\n",
      "\n",
      "Train Epoch: 10 [0/60000 (0%)]\tLoss: -0.746918\n",
      "Train Epoch: 10 [6400/60000 (11%)]\tLoss: -0.737854\n",
      "Train Epoch: 10 [12800/60000 (21%)]\tLoss: -0.841195\n",
      "Train Epoch: 10 [19200/60000 (32%)]\tLoss: -0.829533\n",
      "Train Epoch: 10 [25600/60000 (43%)]\tLoss: -0.812924\n",
      "Train Epoch: 10 [32000/60000 (53%)]\tLoss: -0.786835\n",
      "Train Epoch: 10 [38400/60000 (64%)]\tLoss: -0.800972\n",
      "Train Epoch: 10 [44800/60000 (75%)]\tLoss: -0.756158\n",
      "Train Epoch: 10 [51200/60000 (85%)]\tLoss: -0.781777\n",
      "Train Epoch: 10 [57600/60000 (96%)]\tLoss: -0.774752\n",
      "\n",
      "Test set: Avg. loss: -0.8039, Accuracy: 8353/10000 (84%)\n",
      "\n",
      "Train Epoch: 11 [0/60000 (0%)]\tLoss: -0.822280\n",
      "Train Epoch: 11 [6400/60000 (11%)]\tLoss: -0.741147\n",
      "Train Epoch: 11 [12800/60000 (21%)]\tLoss: -0.861879\n",
      "Train Epoch: 11 [19200/60000 (32%)]\tLoss: -0.793321\n",
      "Train Epoch: 11 [25600/60000 (43%)]\tLoss: -0.832440\n",
      "Train Epoch: 11 [32000/60000 (53%)]\tLoss: -0.774599\n",
      "Train Epoch: 11 [38400/60000 (64%)]\tLoss: -0.780711\n",
      "Train Epoch: 11 [44800/60000 (75%)]\tLoss: -0.800091\n",
      "Train Epoch: 11 [51200/60000 (85%)]\tLoss: -0.858696\n",
      "Train Epoch: 11 [57600/60000 (96%)]\tLoss: -0.779429\n",
      "\n",
      "Test set: Avg. loss: -0.8091, Accuracy: 8374/10000 (84%)\n",
      "\n",
      "Train Epoch: 12 [0/60000 (0%)]\tLoss: -0.778618\n",
      "Train Epoch: 12 [6400/60000 (11%)]\tLoss: -0.834276\n",
      "Train Epoch: 12 [12800/60000 (21%)]\tLoss: -0.839716\n",
      "Train Epoch: 12 [19200/60000 (32%)]\tLoss: -0.713772\n",
      "Train Epoch: 12 [25600/60000 (43%)]\tLoss: -0.825904\n",
      "Train Epoch: 12 [32000/60000 (53%)]\tLoss: -0.812222\n",
      "Train Epoch: 12 [38400/60000 (64%)]\tLoss: -0.848170\n",
      "Train Epoch: 12 [44800/60000 (75%)]\tLoss: -0.819009\n",
      "Train Epoch: 12 [51200/60000 (85%)]\tLoss: -0.771929\n",
      "Train Epoch: 12 [57600/60000 (96%)]\tLoss: -0.773990\n",
      "\n",
      "Test set: Avg. loss: -0.8133, Accuracy: 8383/10000 (84%)\n",
      "\n",
      "Train Epoch: 13 [0/60000 (0%)]\tLoss: -0.746406\n",
      "Train Epoch: 13 [6400/60000 (11%)]\tLoss: -0.796476\n",
      "Train Epoch: 13 [12800/60000 (21%)]\tLoss: -0.812767\n",
      "Train Epoch: 13 [19200/60000 (32%)]\tLoss: -0.782600\n",
      "Train Epoch: 13 [25600/60000 (43%)]\tLoss: -0.790189\n",
      "Train Epoch: 13 [32000/60000 (53%)]\tLoss: -0.872820\n",
      "Train Epoch: 13 [38400/60000 (64%)]\tLoss: -0.815862\n",
      "Train Epoch: 13 [44800/60000 (75%)]\tLoss: -0.759231\n",
      "Train Epoch: 13 [51200/60000 (85%)]\tLoss: -0.864157\n",
      "Train Epoch: 13 [57600/60000 (96%)]\tLoss: -0.759373\n",
      "\n",
      "Test set: Avg. loss: -0.8168, Accuracy: 8398/10000 (84%)\n",
      "\n",
      "Train Epoch: 14 [0/60000 (0%)]\tLoss: -0.778097\n",
      "Train Epoch: 14 [6400/60000 (11%)]\tLoss: -0.824446\n",
      "Train Epoch: 14 [12800/60000 (21%)]\tLoss: -0.809770\n",
      "Train Epoch: 14 [19200/60000 (32%)]\tLoss: -0.830687\n",
      "Train Epoch: 14 [25600/60000 (43%)]\tLoss: -0.745851\n",
      "Train Epoch: 14 [32000/60000 (53%)]\tLoss: -0.865052\n",
      "Train Epoch: 14 [38400/60000 (64%)]\tLoss: -0.797548\n",
      "Train Epoch: 14 [44800/60000 (75%)]\tLoss: -0.808070\n",
      "Train Epoch: 14 [51200/60000 (85%)]\tLoss: -0.701028\n",
      "Train Epoch: 14 [57600/60000 (96%)]\tLoss: -0.783051\n",
      "\n",
      "Test set: Avg. loss: -0.8196, Accuracy: 8407/10000 (84%)\n",
      "\n"
     ]
    }
   ],
   "source": [
    "for epoch in range(num_epochs):\n",
    "    train(train_loader, net, optimizer, epoch, log_interval,F.nll_loss)\n",
    "    test(test_loader, net, epoch, log_interval)"
   ]
  },
  {
   "cell_type": "markdown",
   "metadata": {},
   "source": [
    "### Loss and Accuracy"
   ]
  },
  {
   "cell_type": "code",
   "execution_count": 35,
   "metadata": {},
   "outputs": [
    {
     "data": {
      "text/plain": [
       "Text(0.5, 1.0, 'Train Loss')"
      ]
     },
     "execution_count": 35,
     "metadata": {},
     "output_type": "execute_result"
    },
    {
     "data": {
      "image/png": "[encoded data removed]",
      "text/plain": [
       "<Figure size 432x288 with 1 Axes>"
      ]
     },
     "metadata": {
      "needs_background": "light"
     },
     "output_type": "display_data"
    }
   ],
   "source": [
    "plt.plot(train_losses, 'm')\n",
    "# plt.plot(test_losses, 'c')\n",
    "# plt.legend(['train loss', 'test loss'])\n",
    "plt.xlabel('time')\n",
    "plt.ylabel('Loss')\n",
    "plt.title('Train Loss')"
   ]
  },
  {
   "cell_type": "code",
   "execution_count": 36,
   "metadata": {},
   "outputs": [
    {
     "data": {
      "text/plain": [
       "Text(0.5, 1.0, 'Test Loss')"
      ]
     },
     "execution_count": 36,
     "metadata": {},
     "output_type": "execute_result"
    },
    {
     "data": {
      "image/png": "[encoded data removed]",
      "text/plain": [
       "<Figure size 432x288 with 1 Axes>"
      ]
     },
     "metadata": {
      "needs_background": "light"
     },
     "output_type": "display_data"
    }
   ],
   "source": [
    "plt.plot(test_losses, 'c')\n",
    "plt.xlabel('epoch')\n",
    "plt.ylabel('Loss')\n",
    "plt.title('Test Loss')"
   ]
  },
  {
   "cell_type": "code",
   "execution_count": 37,
   "metadata": {},
   "outputs": [
    {
     "data": {
      "text/plain": [
       "Text(0, 0.5, 'Accuracy')"
      ]
     },
     "execution_count": 37,
     "metadata": {},
     "output_type": "execute_result"
    },
    {
     "data": {
      "image/png": "[encoded data removed]",
      "text/plain": [
       "<Figure size 432x288 with 1 Axes>"
      ]
     },
     "metadata": {
      "needs_background": "light"
     },
     "output_type": "display_data"
    }
   ],
   "source": [
    "plt.plot(train_accuracy, 'm')\n",
    "plt.plot(test_accuracy, 'c')\n",
    "plt.legend(['train accuracy', 'test accurcy'])\n",
    "plt.xlabel('epoch')\n",
    "plt.ylabel('Accuracy')"
   ]
  },
  {
   "cell_type": "code",
   "execution_count": 33,
   "metadata": {},
   "outputs": [
    {
     "data": {
      "text/plain": [
       "(tensor(83.3933), tensor(84.0700))"
      ]
     },
     "execution_count": 33,
     "metadata": {},
     "output_type": "execute_result"
    }
   ],
   "source": [
    "train_accuracy[-1], test_accuracy[-1]"
   ]
  },
  {
   "cell_type": "markdown",
   "metadata": {},
   "source": [
    "### Finding Image Correctly Classified"
   ]
  },
  {
   "cell_type": "code",
   "execution_count": 38,
   "metadata": {},
   "outputs": [
    {
     "name": "stderr",
     "output_type": "stream",
     "text": [
      "C:\\Users\\moshe.nas\\AppData\\Local\\Continuum\\anaconda3\\lib\\site-packages\\ipykernel_launcher.py:13: UserWarning: Implicit dimension choice for softmax has been deprecated. Change the call to include dim=X as an argument.\n",
      "  del sys.path[0]\n"
     ]
    }
   ],
   "source": [
    "flag = True\n",
    "while flag:\n",
    "    rand_idx = np.random.randint(len(test_loader.dataset))\n",
    "    img, label = test_loader.dataset.__getitem__(rand_idx)\n",
    "    output = net(img)\n",
    "    pred = output.data.max(1, keepdim=True)[1]\n",
    "    flag = (label != pred)"
   ]
  },
  {
   "cell_type": "code",
   "execution_count": 39,
   "metadata": {},
   "outputs": [
    {
     "data": {
      "text/plain": [
       "8242"
      ]
     },
     "execution_count": 39,
     "metadata": {},
     "output_type": "execute_result"
    }
   ],
   "source": [
    "rand_idx"
   ]
  },
  {
   "cell_type": "code",
   "execution_count": 40,
   "metadata": {},
   "outputs": [
    {
     "data": {
      "text/plain": [
       "Text(0.5, 1.0, 'Image index: 8242, label: 8, prediction: tensor([[8]])')"
      ]
     },
     "execution_count": 40,
     "metadata": {},
     "output_type": "execute_result"
    },
    {
     "data": {
      "image/png": "[encoded data removed]",
      "text/plain": [
       "<Figure size 432x288 with 1 Axes>"
      ]
     },
     "metadata": {
      "needs_background": "light"
     },
     "output_type": "display_data"
    }
   ],
   "source": [
    "plt.imshow(img.squeeze())\n",
    "plt.title(f'Image index: {rand_idx}, label: {label}, prediction: {pred}')"
   ]
  },
  {
   "cell_type": "markdown",
   "metadata": {},
   "source": [
    "### Creating adverserial example"
   ]
  },
  {
   "cell_type": "code",
   "execution_count": 41,
   "metadata": {},
   "outputs": [],
   "source": [
    "def change_value(img, label, x, y, net):\n",
    "    flag = True\n",
    "    count = 0\n",
    "    changed_img = img.squeeze().numpy().copy()\n",
    "    N = 1000\n",
    "    while flag & (count < 10000):\n",
    "        count += 1\n",
    "        changed_img[x, y] = 200 * np.random.randn() + img[0, x,y]\n",
    "        output = net(torch.tensor(changed_img))\n",
    "        pred = output.data.max(1, keepdim=True)[1]\n",
    "        flag = (label == pred)\n",
    "    l2_diff = np.linalg.norm(changed_img - img.squeeze().numpy(), ord=2)\n",
    "    l0_diff = np.sum(changed_img - img.squeeze().numpy() != 0)# / len(img.squeeze().numpy().reshape(-1))\n",
    "    return changed_img, pred, l2_diff, l0_diff"
   ]
  },
  {
   "cell_type": "code",
   "execution_count": 43,
   "metadata": {},
   "outputs": [
    {
     "name": "stderr",
     "output_type": "stream",
     "text": [
      "C:\\Users\\moshe.nas\\AppData\\Local\\Continuum\\anaconda3\\lib\\site-packages\\ipykernel_launcher.py:13: UserWarning: Implicit dimension choice for softmax has been deprecated. Change the call to include dim=X as an argument.\n",
      "  del sys.path[0]\n"
     ]
    },
    {
     "data": {
      "image/png": "[encoded data removed]",
      "text/plain": [
       "<Figure size 1080x1080 with 5 Axes>"
      ]
     },
     "metadata": {
      "needs_background": "light"
     },
     "output_type": "display_data"
    }
   ],
   "source": [
    "changed_img_list = []\n",
    "changed_coordinates = []\n",
    "fig, axis = plt.subplots(nrows=5, figsize=(15,15))\n",
    "for i in range(5):\n",
    "    x,y = np.random.randint(28, size=2)\n",
    "    changed_img, pred, l2_diff, l0_diff = change_value(img, label, x, y, net)\n",
    "    changed_img_list.append(changed_img)\n",
    "    changed_coordinates.append((x,y))\n",
    "    axis[i].imshow(changed_img)\n",
    "    axis[i].set_title(f'GT:{label}, Prediction: {pred}, l2_diff: {l2_diff:.5f}, l0_diff: {l0_diff:.3f}')"
   ]
  },
  {
   "cell_type": "markdown",
   "metadata": {},
   "source": [
    "### Training SVM model"
   ]
  },
  {
   "cell_type": "code",
   "execution_count": 3,
   "metadata": {},
   "outputs": [],
   "source": [
    "svm_train_data = mnist_train_dataset.data.numpy().reshape(60000, -1)\n",
    "svm_train_labels = mnist_train_dataset.targets.numpy()\n",
    "svm_test_data = mnist_test_dataset.data.numpy().reshape(10000, -1)\n",
    "svm_test_labels = mnist_test_dataset.targets.numpy()"
   ]
  },
  {
   "cell_type": "code",
   "execution_count": 4,
   "metadata": {},
   "outputs": [],
   "source": [
    "from sklearn.svm import SVC\n",
    "from sklearn.pipeline import make_pipeline\n",
    "from sklearn.preprocessing import StandardScaler\n"
   ]
  },
  {
   "cell_type": "code",
   "execution_count": 5,
   "metadata": {},
   "outputs": [
    {
     "name": "stdout",
     "output_type": "stream",
     "text": [
      "[LibSVM]"
     ]
    },
    {
     "data": {
      "text/plain": [
       "Pipeline(memory=None,\n",
       "         steps=[('standardscaler',\n",
       "                 StandardScaler(copy=True, with_mean=True, with_std=True)),\n",
       "                ('svc',\n",
       "                 SVC(C=1.0, cache_size=200, class_weight=None, coef0=0.0,\n",
       "                     decision_function_shape='ovr', degree=3, gamma='auto',\n",
       "                     kernel='rbf', max_iter=-1, probability=False,\n",
       "                     random_state=None, shrinking=True, tol=0.001,\n",
       "                     verbose=True))],\n",
       "         verbose=False)"
      ]
     },
     "execution_count": 5,
     "metadata": {},
     "output_type": "execute_result"
    }
   ],
   "source": [
    "clf = make_pipeline(StandardScaler(), SVC(verbose=True, gamma='auto'))\n",
    "clf.fit(svm_train_data[:10000], svm_train_labels[:10000])"
   ]
  },
  {
   "cell_type": "code",
   "execution_count": 44,
   "metadata": {},
   "outputs": [
    {
     "data": {
      "text/plain": [
       "array([8], dtype=int64)"
      ]
     },
     "execution_count": 44,
     "metadata": {},
     "output_type": "execute_result"
    }
   ],
   "source": [
    "img = svm_test_data[8242]\n",
    "clf.predict(img.reshape(1,-1))"
   ]
  },
  {
   "cell_type": "code",
   "execution_count": 48,
   "metadata": {},
   "outputs": [
    {
     "data": {
      "text/plain": [
       "0.9807"
      ]
     },
     "execution_count": 48,
     "metadata": {},
     "output_type": "execute_result"
    }
   ],
   "source": [
    "clf.score(svm_train_data[:10000], svm_train_labels[:10000])"
   ]
  },
  {
   "cell_type": "code",
   "execution_count": 49,
   "metadata": {},
   "outputs": [
    {
     "data": {
      "text/plain": [
       "0.927"
      ]
     },
     "execution_count": 49,
     "metadata": {},
     "output_type": "execute_result"
    }
   ],
   "source": [
    "clf.score(svm_test_data[:1000], svm_test_labels[:1000])"
   ]
  },
  {
   "cell_type": "code",
   "execution_count": 45,
   "metadata": {},
   "outputs": [
    {
     "data": {
      "image/png": "[encoded data removed]",
      "text/plain": [
       "<Figure size 1080x1080 with 5 Axes>"
      ]
     },
     "metadata": {
      "needs_background": "light"
     },
     "output_type": "display_data"
    }
   ],
   "source": [
    "fig, axis = plt.subplots(nrows=5, figsize=(15,15))\n",
    "for i, cha_img in enumerate(changed_img_list):\n",
    "    axis[i].imshow(cha_img)\n",
    "    pred = clf.predict(cha_img.reshape(1,-1))\n",
    "    axis[i].set_title(f'GT: 8, Prediction: {pred}')"
   ]
  },
  {
   "cell_type": "code",
   "execution_count": null,
   "metadata": {},
   "outputs": [],
   "source": []
  }
 ],
 "metadata": {
  "kernelspec": {
   "display_name": "Python 3",
   "language": "python",
   "name": "python3"
  },
  "language_info": {
   "codemirror_mode": {
    "name": "ipython",
    "version": 3
   },
   "file_extension": ".py",
   "mimetype": "text/x-python",
   "name": "python",
   "nbconvert_exporter": "python",
   "pygments_lexer": "ipython3",
   "version": "3.7.4"
  }
 },
 "nbformat": 4,
 "nbformat_minor": 2
}
