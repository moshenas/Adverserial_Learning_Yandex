{
 "cells": [
  {
   "cell_type": "markdown",
   "metadata": {},
   "source": [
    "# Assignment 6 - Hop Skip Jump"
   ]
  },
  {
   "cell_type": "markdown",
   "metadata": {},
   "source": [
    "## Imports"
   ]
  },
  {
   "cell_type": "code",
   "execution_count": 1,
   "metadata": {},
   "outputs": [],
   "source": [
    "import os\n",
    "\n",
    "import numpy as np\n",
    "import matplotlib.pyplot as plt\n",
    "import tensorflow as tf\n",
    "from tensorflow import keras\n",
    "from tensorflow.keras import layers\n",
    "import math\n",
    "\n",
    "# Enable inline plotting\n",
    "%matplotlib inline\n",
    "\n",
    "import warnings\n",
    "warnings.filterwarnings(\"ignore\", category=DeprecationWarning)\n",
    "warnings.filterwarnings(\"ignore\", category=FutureWarning)"
   ]
  },
  {
   "cell_type": "code",
   "execution_count": 8,
   "metadata": {},
   "outputs": [],
   "source": [
    "np.random.seed(314)"
   ]
  },
  {
   "cell_type": "markdown",
   "metadata": {},
   "source": [
    "## Training MNIST classifier"
   ]
  },
  {
   "cell_type": "code",
   "execution_count": 15,
   "metadata": {},
   "outputs": [],
   "source": [
    "def build_mnist_model():\n",
    "    \n",
    "    activation = 'relu'\n",
    "    # input image dimensions\n",
    "    img_rows, img_cols, img_colors = 28, 28, 1\n",
    "    \n",
    "    model = keras.Sequential()\n",
    "    model.add(layers.Conv2D(8, kernel_size=(3, 3), input_shape=(img_rows, img_cols, img_colors), activation=activation))\n",
    "    model.add(layers.Conv2D(8, (3, 3), activation=activation))\n",
    "    model.add(layers.MaxPooling2D(pool_size=(2, 2)))\n",
    "    model.add(layers.Dropout(0.25))\n",
    "    model.add(layers.Flatten())\n",
    "    model.add(layers.Dense(128, activation=activation))\n",
    "    model.add(layers.Dropout(0.5))\n",
    "    model.add(layers.Dense(num_classes))\n",
    "    model.add(layers.Activation('softmax', name='y_pred'))\n",
    "              \n",
    "    return model\n",
    "\n",
    "def train_model(num_classes, train_images, train_labels, test_images, test_labels):\n",
    "    # Train the model\n",
    "    batch_size = 128\n",
    "    maxepoches = 12\n",
    "    learning_rate = 0.1\n",
    "    lr_decay = 1e-6\n",
    "    lr_drop = 20\n",
    "\n",
    "    def lr_scheduler(epoch):\n",
    "        return learning_rate * (0.5 ** (epoch // lr_drop))\n",
    "    reduce_lr = keras.callbacks.LearningRateScheduler(lr_scheduler)\n",
    "\n",
    "    model = build_mnist_model()\n",
    "\n",
    "    model.compile(loss='categorical_crossentropy',\n",
    "                  optimizer=keras.optimizers.Adadelta(),\n",
    "                  metrics=[keras.metrics.CategoricalAccuracy()])\n",
    "\n",
    "    history = model.fit(train_images, train_labels,\n",
    "                        batch_size=batch_size,\n",
    "                        epochs=maxepoches,\n",
    "                        verbose=1,\n",
    "                        validation_data=(test_images, test_labels),\n",
    "                        callbacks=[reduce_lr])\n",
    "\n",
    "    return model\n",
    "\n",
    "\n",
    "def normalize(x_train,x_test):\n",
    "    x_train -= x_train.min()\n",
    "    x_train /= x_train.max()\n",
    "    x_test -= x_test.min()\n",
    "    x_test /= x_test.max()\n",
    "    \n",
    "    return x_train, x_test"
   ]
  },
  {
   "cell_type": "code",
   "execution_count": 5,
   "metadata": {},
   "outputs": [],
   "source": [
    "num_classes = 10\n",
    "\n",
    "img_rows, img_cols, img_colors = 28, 28, 1\n",
    "(train_images, train_labels), (test_images, test_labels) = keras.datasets.mnist.load_data()\n",
    "train_images = train_images.astype('float32')\n",
    "test_images = test_images.astype('float32')\n",
    "train_images = train_images.reshape(train_images.shape[0], img_rows, img_cols, 1)\n",
    "test_images = test_images.reshape(test_images.shape[0], img_rows, img_cols, 1)\n",
    "train_images, test_images = normalize(train_images, test_images)\n",
    "    \n",
    "train_labels = keras.utils.to_categorical(train_labels, num_classes)\n",
    "test_labels = keras.utils.to_categorical(test_labels, num_classes)"
   ]
  },
  {
   "cell_type": "code",
   "execution_count": 16,
   "metadata": {},
   "outputs": [
    {
     "name": "stdout",
     "output_type": "stream",
     "text": [
      "Epoch 1/12\n",
      "469/469 [==============================] - 16s 34ms/step - loss: 0.9963 - categorical_accuracy: 0.6762 - val_loss: 0.2969 - val_categorical_accuracy: 0.9175\n",
      "Epoch 2/12\n",
      "469/469 [==============================] - 16s 34ms/step - loss: 0.4323 - categorical_accuracy: 0.8673 - val_loss: 0.2147 - val_categorical_accuracy: 0.9398\n",
      "Epoch 3/12\n",
      "469/469 [==============================] - 17s 36ms/step - loss: 0.3493 - categorical_accuracy: 0.8951 - val_loss: 0.1807 - val_categorical_accuracy: 0.9485\n",
      "Epoch 4/12\n",
      "469/469 [==============================] - 17s 36ms/step - loss: 0.3038 - categorical_accuracy: 0.9082 - val_loss: 0.1582 - val_categorical_accuracy: 0.9519\n",
      "Epoch 5/12\n",
      "469/469 [==============================] - 17s 37ms/step - loss: 0.2715 - categorical_accuracy: 0.9193 - val_loss: 0.1422 - val_categorical_accuracy: 0.9558\n",
      "Epoch 6/12\n",
      "469/469 [==============================] - 17s 37ms/step - loss: 0.2480 - categorical_accuracy: 0.9243 - val_loss: 0.1281 - val_categorical_accuracy: 0.9603\n",
      "Epoch 7/12\n",
      "469/469 [==============================] - 17s 37ms/step - loss: 0.2335 - categorical_accuracy: 0.9300 - val_loss: 0.1177 - val_categorical_accuracy: 0.9628\n",
      "Epoch 8/12\n",
      "469/469 [==============================] - 18s 38ms/step - loss: 0.2184 - categorical_accuracy: 0.9342 - val_loss: 0.1101 - val_categorical_accuracy: 0.9652\n",
      "Epoch 9/12\n",
      "469/469 [==============================] - 18s 39ms/step - loss: 0.2067 - categorical_accuracy: 0.9385 - val_loss: 0.1027 - val_categorical_accuracy: 0.9681\n",
      "Epoch 10/12\n",
      "469/469 [==============================] - 19s 40ms/step - loss: 0.1946 - categorical_accuracy: 0.9413 - val_loss: 0.0976 - val_categorical_accuracy: 0.9686\n",
      "Epoch 11/12\n",
      "469/469 [==============================] - 21s 44ms/step - loss: 0.1892 - categorical_accuracy: 0.9430 - val_loss: 0.0923 - val_categorical_accuracy: 0.9708\n",
      "Epoch 12/12\n",
      "469/469 [==============================] - 20s 42ms/step - loss: 0.1805 - categorical_accuracy: 0.9459 - val_loss: 0.0880 - val_categorical_accuracy: 0.9723\n"
     ]
    }
   ],
   "source": [
    "model = train_model(num_classes, train_images, train_labels, test_images, test_labels)"
   ]
  },
  {
   "cell_type": "markdown",
   "metadata": {},
   "source": [
    "## Interpolating images"
   ]
  },
  {
   "cell_type": "markdown",
   "metadata": {},
   "source": [
    "### Choosing 2 images with different labels"
   ]
  },
  {
   "cell_type": "code",
   "execution_count": 35,
   "metadata": {},
   "outputs": [
    {
     "data": {
      "text/plain": [
       "Text(0.5, 1.0, 'destination image, label=9')"
      ]
     },
     "execution_count": 35,
     "metadata": {},
     "output_type": "execute_result"
    },
    {
     "data": {
      "image/png": "[encoded data removed]",
      "text/plain": [
       "<Figure size 720x720 with 2 Axes>"
      ]
     },
     "metadata": {
      "needs_background": "light"
     },
     "output_type": "display_data"
    }
   ],
   "source": [
    "source_idx = np.random.randint(len(train_labels))\n",
    "source_img, source_label = train_images[source_idx], train_labels[source_idx]\n",
    "same_label = True\n",
    "while same_label:\n",
    "    dest_idx = np.random.randint(len(train_labels))\n",
    "    dest_img, dest_label = train_images[dest_idx], train_labels[dest_idx]\n",
    "    if np.argmax(dest_label) != np.argmax(source_label):\n",
    "        same_label = False\n",
    "        \n",
    "fig, (ax1, ax2) = plt.subplots(1, 2, figsize=(10,10))\n",
    "ax1.imshow(source_img.squeeze())\n",
    "ax1.set_title(f'source image, label={np.argmax(source_label)}')\n",
    "ax2.imshow(dest_img.squeeze())\n",
    "ax2.set_title(f'destination image, label={np.argmax(dest_label)}')"
   ]
  },
  {
   "cell_type": "markdown",
   "metadata": {},
   "source": [
    "### Interpolating"
   ]
  },
  {
   "cell_type": "code",
   "execution_count": 46,
   "metadata": {},
   "outputs": [
    {
     "data": {
      "image/png": "[encoded data removed]",
      "text/plain": [
       "<Figure size 2880x2880 with 11 Axes>"
      ]
     },
     "metadata": {
      "needs_background": "light"
     },
     "output_type": "display_data"
    }
   ],
   "source": [
    "num_interpolation = 11\n",
    "interpolating_coefs = np.linspace(0, 1, num_interpolation)\n",
    "fig, axis = plt.subplots(1, num_interpolation, figsize=(40,40))\n",
    "for idx, coef in enumerate(interpolating_coefs):\n",
    "    input_image = coef * dest_img + (1-coef) * source_img\n",
    "    pred = np.argmax(model(np.expand_dims(input_image, axis=0)))\n",
    "    axis[idx].imshow(input_image.squeeze())\n",
    "    axis[idx].set_title(f'$\\\\alpha = $ {1-coef:1.2f}, prediction {pred}')"
   ]
  },
  {
   "cell_type": "markdown",
   "metadata": {},
   "source": [
    "## Binary search"
   ]
  },
  {
   "cell_type": "code",
   "execution_count": 65,
   "metadata": {},
   "outputs": [],
   "source": [
    "def binary_search(src_img, dest_img, dest_label, model, eps=1e-7):\n",
    "    \n",
    "    min_alpha = 0\n",
    "    max_alpha = 1\n",
    "    \n",
    "    while max_alpha - min_alpha > eps:\n",
    "        middle = 0.5 * (min_alpha + max_alpha)\n",
    "        interpolated_image = (1-middle) * src_img + middle * dest_img\n",
    "\n",
    "        if np.argmax(model(np.expand_dims(interpolated_image, axis=0))) != np.argmax(dest_label):\n",
    "            min_alpha = middle\n",
    "        else:\n",
    "            max_alpha = middle\n",
    "    \n",
    "    return max_alpha"
   ]
  },
  {
   "cell_type": "code",
   "execution_count": 66,
   "metadata": {},
   "outputs": [],
   "source": [
    "boundary_coefficient = binary_search(source_img, dest_img, dest_label, model)"
   ]
  },
  {
   "cell_type": "code",
   "execution_count": 67,
   "metadata": {},
   "outputs": [
    {
     "data": {
      "text/plain": [
       "0.6148448586463928"
      ]
     },
     "execution_count": 67,
     "metadata": {},
     "output_type": "execute_result"
    }
   ],
   "source": [
    "boundary_coefficient"
   ]
  },
  {
   "cell_type": "code",
   "execution_count": 70,
   "metadata": {},
   "outputs": [
    {
     "data": {
      "text/plain": [
       "Text(0.5, 1.0, 'boundary image, prediction = 9')"
      ]
     },
     "execution_count": 70,
     "metadata": {},
     "output_type": "execute_result"
    },
    {
     "data": {
      "image/png": "[encoded data removed]",
      "text/plain": [
       "<Figure size 432x288 with 1 Axes>"
      ]
     },
     "metadata": {
      "needs_background": "light"
     },
     "output_type": "display_data"
    }
   ],
   "source": [
    "boundary_img = (boundary_coefficient+eps) * dest_img + (1-boundary_coefficient - eps) * source_img\n",
    "pred = np.argmax(model(np.expand_dims(boundary_img, axis=0)))\n",
    "plt.imshow(boundary_img.squeeze())\n",
    "plt.title(f'boundary image, prediction = {pred}')"
   ]
  },
  {
   "cell_type": "markdown",
   "metadata": {},
   "source": [
    "## Derivating S"
   ]
  },
  {
   "cell_type": "code",
   "execution_count": 71,
   "metadata": {},
   "outputs": [],
   "source": [
    "@tf.function\n",
    "def deriv_S(f, x_input, target):\n",
    "    with tf.GradientTape() as grad:\n",
    "        input_tensor = x_input\n",
    "        softmax = f(input_tensor)\n",
    "    soft_grads = grad.gradient(softmax, input_tensor)\n",
    "    target_grad = soft_grads[target]\n",
    "    max_grad = soft_grads[np.argmax(softmax)]\n",
    "    return target_grad - max_grad"
   ]
  }
 ],
 "metadata": {
  "kernelspec": {
   "display_name": "Python 3",
   "language": "python",
   "name": "python3"
  },
  "language_info": {
   "codemirror_mode": {
    "name": "ipython",
    "version": 3
   },
   "file_extension": ".py",
   "mimetype": "text/x-python",
   "name": "python",
   "nbconvert_exporter": "python",
   "pygments_lexer": "ipython3",
   "version": "3.7.4"
  }
 },
 "nbformat": 4,
 "nbformat_minor": 4
}
