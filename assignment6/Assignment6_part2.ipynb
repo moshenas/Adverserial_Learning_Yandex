{
 "cells": [
  {
   "cell_type": "markdown",
   "metadata": {},
   "source": [
    "# Assignment 6 - Part II"
   ]
  },
  {
   "cell_type": "code",
   "execution_count": 1,
   "metadata": {
    "id": "HQoWTbhDwTMz"
   },
   "outputs": [],
   "source": [
    "import os\n",
    "\n",
    "import numpy as np\n",
    "import matplotlib.pyplot as plt\n",
    "\n",
    "import tensorflow as tf\n",
    "from tensorflow import keras\n",
    "from tensorflow.keras import layers\n",
    "import math\n",
    "import random\n",
    "from IPython.display import clear_output\n",
    "\n",
    "# Enable inline plotting\n",
    "%matplotlib inline\n",
    "\n",
    "import warnings\n",
    "warnings.filterwarnings(\"ignore\", category=DeprecationWarning)\n",
    "warnings.filterwarnings(\"ignore\", category=FutureWarning)"
   ]
  },
  {
   "cell_type": "markdown",
   "metadata": {
    "id": "htW653wBwTM_"
   },
   "source": [
    "--- Build a Simple MNIST Classifier ---"
   ]
  },
  {
   "cell_type": "code",
   "execution_count": 2,
   "metadata": {
    "id": "EJclC5eewTNC"
   },
   "outputs": [],
   "source": [
    "''' Build a simple MNIST classification CNN\n",
    "    The network takes ~3 minutes to train on a normal laptop and reaches roughly 97% of accuracy\n",
    "    Model structure: Conv, Conv, Max pooling, Dropout, Dense, Dense\n",
    "'''\n",
    "def build_mnist_model():\n",
    "    \n",
    "    activation = 'relu'\n",
    "    # input image dimensions\n",
    "    img_rows, img_cols, img_colors = 28, 28, 1\n",
    "    \n",
    "    model = keras.Sequential()\n",
    "    model.add(layers.Conv2D(8, kernel_size=(3, 3), input_shape=(img_rows, img_cols, img_colors), activation=activation))\n",
    "    model.add(layers.Conv2D(8, (3, 3), activation=activation))\n",
    "    model.add(layers.MaxPooling2D(pool_size=(2, 2)))\n",
    "    model.add(layers.Dropout(0.25))\n",
    "    model.add(layers.Flatten())\n",
    "    model.add(layers.Dense(128, activation=activation))\n",
    "    model.add(layers.Dropout(0.5))\n",
    "    model.add(layers.Dense(num_classes))\n",
    "    model.add(layers.Activation('softmax', name='y_pred'))\n",
    "              \n",
    "    return model"
   ]
  },
  {
   "cell_type": "code",
   "execution_count": 3,
   "metadata": {
    "id": "iFzVOgpNwTNK"
   },
   "outputs": [],
   "source": [
    "''' Normalize input to the range of [0..1]\n",
    "    Apart from assisting in the convergance of the training process, this \n",
    "    will also make our lives easier during the adversarial attack process\n",
    "'''\n",
    "def normalize(x_train,x_test):\n",
    "    x_train -= x_train.min()\n",
    "    x_train /= x_train.max()\n",
    "    x_test -= x_test.min()\n",
    "    x_test /= x_test.max()\n",
    "    \n",
    "    return x_train, x_test"
   ]
  },
  {
   "cell_type": "code",
   "execution_count": 4,
   "metadata": {
    "id": "wjNdLqKzwTNU"
   },
   "outputs": [],
   "source": [
    "# Load and prepare the datasets for training\n",
    "num_classes = 10\n",
    "\n",
    "img_rows, img_cols, img_colors = 28, 28, 1\n",
    "(train_images, train_labels), (test_images, test_labels) = keras.datasets.mnist.load_data()\n",
    "train_images = train_images.astype('float32')\n",
    "test_images = test_images.astype('float32')\n",
    "train_images = train_images.reshape(train_images.shape[0], img_rows, img_cols, 1)\n",
    "test_images = test_images.reshape(test_images.shape[0], img_rows, img_cols, 1)\n",
    "train_images, test_images = normalize(train_images, test_images)\n",
    "    \n",
    "train_labels = keras.utils.to_categorical(train_labels, num_classes)\n",
    "test_labels = keras.utils.to_categorical(test_labels, num_classes)"
   ]
  },
  {
   "cell_type": "code",
   "execution_count": 5,
   "metadata": {
    "id": "XlNjyiM0wTNc",
    "scrolled": true
   },
   "outputs": [
    {
     "name": "stdout",
     "output_type": "stream",
     "text": [
      "Epoch 1/12\n",
      "469/469 [==============================] - 18s 37ms/step - loss: 1.0074 - categorical_accuracy: 0.6775 - val_loss: 0.3184 - val_categorical_accuracy: 0.9087\n",
      "Epoch 2/12\n",
      "469/469 [==============================] - 18s 39ms/step - loss: 0.4671 - categorical_accuracy: 0.8537 - val_loss: 0.2467 - val_categorical_accuracy: 0.9286\n",
      "Epoch 3/12\n",
      "469/469 [==============================] - 19s 41ms/step - loss: 0.3942 - categorical_accuracy: 0.8792 - val_loss: 0.2086 - val_categorical_accuracy: 0.9398\n",
      "Epoch 4/12\n",
      "469/469 [==============================] - 18s 39ms/step - loss: 0.3449 - categorical_accuracy: 0.8948 - val_loss: 0.1825 - val_categorical_accuracy: 0.9457\n",
      "Epoch 5/12\n",
      "469/469 [==============================] - 18s 39ms/step - loss: 0.3024 - categorical_accuracy: 0.9081 - val_loss: 0.1615 - val_categorical_accuracy: 0.9513\n",
      "Epoch 6/12\n",
      "469/469 [==============================] - 19s 41ms/step - loss: 0.2720 - categorical_accuracy: 0.9178 - val_loss: 0.1416 - val_categorical_accuracy: 0.9568\n",
      "Epoch 7/12\n",
      "469/469 [==============================] - 23s 49ms/step - loss: 0.2477 - categorical_accuracy: 0.9249 - val_loss: 0.1263 - val_categorical_accuracy: 0.9616\n",
      "Epoch 8/12\n",
      "469/469 [==============================] - 21s 45ms/step - loss: 0.2257 - categorical_accuracy: 0.9312 - val_loss: 0.1148 - val_categorical_accuracy: 0.9656\n",
      "Epoch 9/12\n",
      "469/469 [==============================] - 21s 45ms/step - loss: 0.2080 - categorical_accuracy: 0.9374 - val_loss: 0.1046 - val_categorical_accuracy: 0.9680\n",
      "Epoch 10/12\n",
      "469/469 [==============================] - 21s 46ms/step - loss: 0.1920 - categorical_accuracy: 0.9427 - val_loss: 0.0956 - val_categorical_accuracy: 0.9709\n",
      "Epoch 11/12\n",
      "469/469 [==============================] - 22s 47ms/step - loss: 0.1820 - categorical_accuracy: 0.9454 - val_loss: 0.0891 - val_categorical_accuracy: 0.9734\n",
      "Epoch 12/12\n",
      "469/469 [==============================] - 23s 48ms/step - loss: 0.1714 - categorical_accuracy: 0.9485 - val_loss: 0.0844 - val_categorical_accuracy: 0.9746\n"
     ]
    }
   ],
   "source": [
    "# Train the model\n",
    "batch_size = 128\n",
    "maxepoches = 12\n",
    "learning_rate = 0.1\n",
    "lr_decay = 1e-6\n",
    "lr_drop = 20\n",
    "\n",
    "def lr_scheduler(epoch):\n",
    "    return learning_rate * (0.5 ** (epoch // lr_drop))\n",
    "reduce_lr = keras.callbacks.LearningRateScheduler(lr_scheduler)\n",
    "\n",
    "model = build_mnist_model()\n",
    "\n",
    "model.compile(loss='categorical_crossentropy',\n",
    "              optimizer=keras.optimizers.Adadelta(),\n",
    "              metrics=[keras.metrics.CategoricalAccuracy()])\n",
    "\n",
    "history = model.fit(train_images, train_labels,\n",
    "                    batch_size=batch_size,\n",
    "                    epochs=maxepoches,\n",
    "                    verbose=1,\n",
    "                    validation_data=(test_images, test_labels),\n",
    "                    callbacks=[reduce_lr])"
   ]
  },
  {
   "cell_type": "markdown",
   "metadata": {
    "id": "aZa6Xu3uwTNn"
   },
   "source": [
    "--- Understanding Vectors in Input Space ---"
   ]
  },
  {
   "cell_type": "code",
   "execution_count": 6,
   "metadata": {
    "id": "WQ3xdBkgwTNp"
   },
   "outputs": [
    {
     "data": {
      "image/png": "[encoded data removed]",
      "text/plain": [
       "<Figure size 1080x216 with 11 Axes>"
      ]
     },
     "metadata": {
      "needs_background": "light"
     },
     "output_type": "display_data"
    }
   ],
   "source": [
    "img_rows, img_cols = 28 , 28\n",
    "\n",
    "x_start = test_images[18]\n",
    "x_end = test_images[19]\n",
    "\n",
    "max_steps = 11\n",
    "steps = np.empty((max_steps, img_rows, img_cols, 1))\n",
    "fig, ax = plt.subplots(nrows=1, ncols=max_steps, figsize=(15,3))\n",
    "delta = (x_end - x_start)/(max_steps - 1)\n",
    "\n",
    "for index in range(max_steps):\n",
    "    steps[index] = x_start + index * delta   \n",
    "    pred = np.argmax(model.predict(np.expand_dims(steps[index], 0)))\n",
    "    ax[index].imshow(steps[index].reshape((img_rows, img_cols)), cmap='gray')\n",
    "    ax[index].set_title(str(pred))\n",
    "    ax[index].axis('off')\n",
    "\n",
    "plt.show()"
   ]
  },
  {
   "cell_type": "markdown",
   "metadata": {
    "id": "9B2G3gtxwTNy"
   },
   "source": [
    "--- HopSkipJump Attack Implementation ---"
   ]
  },
  {
   "cell_type": "code",
   "execution_count": 7,
   "metadata": {
    "id": "PihIdasD1B6k"
   },
   "outputs": [],
   "source": [
    "@tf.function\n",
    "def BoundaryBinSearch(classifier, source_x, dest_x, verbose=False):\n",
    "    \n",
    "    # Some preperation\n",
    "    min_x = source_x\n",
    "    max_x = dest_x\n",
    "    # In case input included only a single image we need an extra dimension to\n",
    "    # be able to use the neural network for prediction later on\n",
    "    if (len(min_x.shape) == 3):\n",
    "        min_x = tf.expand_dims(min_x, axis=0)\n",
    "    if (len(max_x.shape) == 3):\n",
    "        max_x = tf.expand_dims(max_x, axis=0)\n",
    "    \n",
    "    max_iteration = 100 \n",
    "    epsilon = 1e-7\n",
    "       \n",
    "    min_y = classifier(min_x)\n",
    "\n",
    "    # Compute the original distance between source and destination\n",
    "    dist = np.inf\n",
    "    mid_x = (min_x + max_x)/2\n",
    "    \n",
    "    iteration = 0\n",
    "    while tf.greater(dist, epsilon) and iteration < max_iteration:\n",
    "        if verbose and iteration % 5 == 0:\n",
    "            tf.print('Bin Search Iteration: ', iteration, 'Mean dist: {0:.2f}', dist)\n",
    "        \n",
    "        iteration += 1\n",
    "        \n",
    "        # Calculate the mid point and the class label at that point\n",
    "        min_y = classifier(min_x)\n",
    "        max_y = classifier(max_x)\n",
    "        mid_x = (min_x + max_x)/2\n",
    "        mid_y = classifier(mid_x)\n",
    "        \n",
    "        sign = tf.dtypes.cast(tf.equal(tf.argmax(mid_y, axis=1), tf.argmax(max_y, axis=1)), tf.float32)\n",
    "        \n",
    "        # Reshape the sign vector so that we can later multiply the matrix by it and preserve the original \n",
    "        # dimensions of the input image\n",
    "        sign = tf.expand_dims(tf.expand_dims(tf.expand_dims(sign, -1), -1), -1)\n",
    "        \n",
    "        # When sign equals to 1 we want to move the max to the mid (the mid is in the target class)\n",
    "        # When sign equals to 0 we want to leave the max unchanged (the mid is in the source class)\n",
    "        max_x = sign * mid_x + (1 - sign) * max_x\n",
    "        \n",
    "        # When sign equals to 1 we want to leave the min unchanged (the mid is in the target class)\n",
    "        # When sign equals to 0 we want to move the min to the mid (the mid is in the source class)\n",
    "        min_x = sign * min_x + (1 - sign) * mid_x\n",
    "        \n",
    "        dist = tf.reduce_mean(tf.sqrt(tf.reduce_sum(tf.square(max_x - min_x), axis=(1,2,3))))\n",
    "        \n",
    "    return mid_x"
   ]
  },
  {
   "cell_type": "code",
   "execution_count": 108,
   "metadata": {
    "id": "xy6vW08owTN9"
   },
   "outputs": [],
   "source": [
    "# The target tensor will be populated with a one-hot representation of the target\n",
    "\n",
    "# S is our optimization function. It is positive if and only if the predicted class is the target one\n",
    "# Since target_tensor is a one hot matrix, multiplying it with the model's output will nullify all but the\n",
    "# target probability estimates. Taking a 'max' over that tensor will result with a column tensor with the probability of the \n",
    "# target class.\n",
    "# Similarly, 1 - target_tensor will nullify only the target class probability estimate. Taking a max in this case will\n",
    "# create a column tensor with the maximal estimate of all non-target classes.\n",
    "# Together those elements provide the delta between the target class and the second highest probability.\n",
    "\n",
    "def BoundarySlide(classifier, mid_x, target, iteration):\n",
    "    perpendicular_step = 0.1 / (2 ** iteration)\n",
    "    target_vec = np.ones(mid_x.shape[0]) * target\n",
    "    target_vec = keras.utils.to_categorical(target_vec, num_classes)\n",
    "    target_tensor = tf.Variable(target_vec)\n",
    "    \n",
    "    # Take a small step in the direction of the gradient\n",
    "    mid_x_tensor = tf.Variable(mid_x)\n",
    "    with tf.GradientTape() as g:\n",
    "        g.watch(mid_x_tensor)\n",
    "        mid_y_tensor = classifier(mid_x_tensor)\n",
    "        S = tf.math.reduce_max(mid_y_tensor * target_tensor, axis=1)\n",
    "        S -= tf.math.reduce_max((1 - target_tensor) * mid_y_tensor, axis=1)\n",
    "    \n",
    "    grads = g.gradient(S, mid_x_tensor)\n",
    "    grad_norm = tf.sqrt(tf.reduce_sum(tf.square(grads), axis=(1,2,3), keepdims=True))\n",
    "    \n",
    "    return mid_x + perpendicular_step * (grads / grad_norm)"
   ]
  },
  {
   "cell_type": "code",
   "execution_count": 109,
   "metadata": {
    "id": "AUj7lHTpwTOM"
   },
   "outputs": [],
   "source": [
    "def WhiteboxHopSkipJump(classifier, source_x, dest_x, max_iterations = 200, target=0, collect_boundaries=False):\n",
    "    # Iterate -\n",
    "    # 1. Find the mid points between source and dest using binary search\n",
    "    # 2. Slide along the gradient\n",
    "    epsilon = 1e-5\n",
    "    last_dist = np.inf\n",
    "    next_x = np.copy(dest_x)\n",
    "    boundaries = []\n",
    "    \n",
    "    for iteration in range(max_iterations):\n",
    "        clear_output(wait=True)\n",
    "        print('HopSkip Iteration: ', iteration)\n",
    "\n",
    "        # TODO: Find current boundary point\n",
    "        next_x = BoundaryBinSearch(classifier, source_x, dest_x, verbose=False) \n",
    "        \n",
    "        if collect_boundaries:\n",
    "            boundaries.append(next_x)\n",
    "        # TODO: Slide along the gradient    \n",
    "        next_x = BoundarySlide(classifier, next_x, dest_x, iteration+1)\n",
    "\n",
    "        # TODO: Clip or project the values in 'next_x' to maintain validity\n",
    "        next_x = tf.clip_by_value(next_x, 0, 255) \n",
    "        \n",
    "        # TODO: Calculate the distance to the boundary point\n",
    "#         dist = np.linalg.norm(next_x-source_x)\n",
    "        dist = tf.reduce_mean(tf.sqrt(tf.reduce_sum(tf.square(next_x - source_x), axis=(1,2,3))))\n",
    "        \n",
    "        # Stop when the distance to the boundary can not be further reduced\n",
    "        print(f\"dist is {dist}, last_dist is {last_dist}\")\n",
    "        if abs(dist - last_dist) < epsilon:\n",
    "            break\n",
    "        else:\n",
    "            last_dist = dist\n",
    "    \n",
    "    return next_x, boundaries"
   ]
  },
  {
   "cell_type": "code",
   "execution_count": 10,
   "metadata": {
    "id": "3HTZnduYwTOU"
   },
   "outputs": [],
   "source": [
    "def PrepareAttackImages(test_images, test_labels, source_index=None, samples=100):\n",
    "    # Randmly choose a source image, then choose 100 destination images of a random target class\n",
    "    if source_index is None:\n",
    "        source_index = random.randint(0,test_images.shape[0])   \n",
    "    source_class = np.argmax(test_labels[source_index])\n",
    "    target_class = (source_class + random.randint(1, num_classes-1)) % num_classes\n",
    "    \n",
    "    # Filter out all test images of the source class into test_images_a\n",
    "    mask = np.argmax(test_labels, axis=1) == source_class\n",
    "    test_images_a = test_images[mask]\n",
    "    \n",
    "    # Filter out all test images of the target class into test_images_b\n",
    "    mask = np.argmax(test_labels, axis=1) == target_class\n",
    "    test_images_b = test_images[mask]\n",
    "    \n",
    "    # We need image pairs for running the HopSkipJump attack. The source image is replicated for all pairs while\n",
    "    # the destination image is chosen randomly from the test set\n",
    "    source_x = np.repeat(np.expand_dims(test_images[source_index], axis=0),samples, axis=0)\n",
    "    dest_x = test_images_b[np.random.choice(range(test_images_b.shape[0]), size=samples, replace=False)]\n",
    "    \n",
    "    return source_x, dest_x, source_class, target_class"
   ]
  },
  {
   "cell_type": "code",
   "execution_count": 35,
   "metadata": {
    "id": "KteROIwMwTOe"
   },
   "outputs": [],
   "source": [
    "''' A simple utility funcion for evaluating the success of an attack\n",
    "'''\n",
    "def TestAttack(model, adv_images, orig_images, true_label, target_label = None, boundaries = None):\n",
    "    preds = model.predict(adv_images)\n",
    "    score = np.sum(np.argmax(preds, axis = 1) != true_label)\n",
    "    score /= adv_images.shape[0]\n",
    "    print('Successfully moved out of source class: {:.2f}'.format(score))\n",
    "    \n",
    "    if target_label is not None:\n",
    "        score = np.sum(np.argmax(preds, axis = 1) == target_label)\n",
    "        score /= adv_images.shape[0]\n",
    "        print('Successfully perturbed to target class: {:.2f}'.format(score))\n",
    "    \n",
    "    dist = np.mean(np.sqrt(np.mean(np.square(adv_images - orig_images), axis=(1,2,3))))\n",
    "    print('Mean perturbation distance: {:.2f}'.format(dist))\n",
    "    \n",
    "    # When the intermediate boundary images are provided we plot them all\n",
    "    # otherwise, choose the end result of one attack pair and plot it\n",
    "    if boundaries is None:\n",
    "        index = 10\n",
    "        img = adv_images[index].reshape(28, 28)\n",
    "        plt.imshow(img, cmap='gray', vmin=0, vmax=1)\n",
    "    else:\n",
    "        cols = 8\n",
    "        rows = math.ceil(len(boundaries) / cols)\n",
    "        fig, ax = plt.subplots(nrows=rows, ncols = cols, figsize=(8, 1.25*rows))\n",
    "        for index in range(rows*cols):\n",
    "            if index < len(boundaries):\n",
    "                img = boundaries[index][0].reshape(28, 28)\n",
    "                if rows > 1:\n",
    "                    ax[index // cols, index % cols].imshow(img, vmin=0, vmax=1, cmap='gray')\n",
    "                    ax[index // cols, index % cols].set_title(str(index))\n",
    "                    ax[index // cols, index % cols].axis('off')\n",
    "\n",
    "                else:\n",
    "                    ax[index % cols].imshow(img, vmin=0, vmax=1, cmap='gray')\n",
    "                    ax[index % cols].set_title(str(index))\n",
    "                    ax[index % cols].axis('off')\n",
    "\n",
    "    plt.show()"
   ]
  },
  {
   "cell_type": "code",
   "execution_count": 110,
   "metadata": {
    "id": "s6P_cZ3xwTOm"
   },
   "outputs": [
    {
     "name": "stdout",
     "output_type": "stream",
     "text": [
      "HopSkip Iteration:  10\n",
      "dist is 1.9884494543075562, last_dist is 1.9884588718414307\n",
      "Source index: 1751 Source class: 4 Target class: 2\n",
      "Mean boundary distance: 9.91\n",
      "Successfully moved out of source class: 1.00\n",
      "Successfully perturbed to target class: 0.96\n",
      "Mean perturbation distance: 0.07\n"
     ]
    },
    {
     "data": {
      "image/png": "[encoded data removed]",
      "text/plain": [
       "<Figure size 576x180 with 16 Axes>"
      ]
     },
     "metadata": {
      "needs_background": "light"
     },
     "output_type": "display_data"
    }
   ],
   "source": [
    "samples = 100\n",
    "dist = np.zeros((samples))\n",
    "adv_dist = np.zeros((samples))\n",
    "    \n",
    "# Choose a random starting point and create image pairs for the attack\n",
    "source_index = random.randint(0,test_images.shape[0])\n",
    "source_x, dest_x, source, target = PrepareAttackImages(test_images, test_labels, source_index=source_index, samples=samples)\n",
    "\n",
    "# Calc the distance between the source and dest images\n",
    "for index in range(samples):\n",
    "    dist[index] = np.linalg.norm(source_x[index] - dest_x[index])\n",
    "\n",
    "# Craft adversarial attacks against the selected source image with HopSkipJump\n",
    "adv_x, boundaries = WhiteboxHopSkipJump(model, source_x, dest_x, target=target, max_iterations = 100, collect_boundaries=True)\n",
    "print('Source index:', source_index, 'Source class:', source, 'Target class:', target)\n",
    "print('Mean boundary distance:', round(np.mean(dist),2))\n",
    "\n",
    "# Convert boundary images into numpy arrays (as opposed to tensors)\n",
    "for index in range(len(boundaries)):\n",
    "    boundaries[index] = boundaries[index].numpy()\n",
    "TestAttack(model, adv_x.numpy(), source_x, source, target_label=target, boundaries=boundaries)\n",
    "    "
   ]
  },
  {
   "cell_type": "markdown",
   "metadata": {
    "id": "p5XCUGQPwTOt"
   },
   "source": [
    "--- STOP HERE ---"
   ]
  }
 ],
 "metadata": {
  "accelerator": "GPU",
  "colab": {
   "collapsed_sections": [],
   "name": "HopSkipJump Re-implementation - Phase II.ipynb",
   "provenance": []
  },
  "kernelspec": {
   "display_name": "Python 3",
   "language": "python",
   "name": "python3"
  },
  "language_info": {
   "codemirror_mode": {
    "name": "ipython",
    "version": 3
   },
   "file_extension": ".py",
   "mimetype": "text/x-python",
   "name": "python",
   "nbconvert_exporter": "python",
   "pygments_lexer": "ipython3",
   "version": "3.7.4"
  }
 },
 "nbformat": 4,
 "nbformat_minor": 4
}
